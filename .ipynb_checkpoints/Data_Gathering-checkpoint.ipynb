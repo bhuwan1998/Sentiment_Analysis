{
 "cells": [
  {
   "cell_type": "markdown",
   "id": "75cecc83-620c-4241-8454-0f6375b50dbd",
   "metadata": {},
   "source": [
    "# Sentiment Analysis using Tweets (Ukraine and Russia conflict) on Oil Price"
   ]
  },
  {
   "cell_type": "markdown",
   "id": "45c5f0f5-092b-4c32-a912-8039b1f1b87e",
   "metadata": {},
   "source": [
    "#### Twitter API Setup\n",
    "[Setting up of Code and Cleaning up tweets](https://medium.com/swlh/using-twitter-api-for-tweets-sentiment-analysis-590c97ce52d8)"
   ]
  },
  {
   "cell_type": "code",
   "execution_count": 1,
   "id": "dc55b699-21cd-45be-b54f-bc3dcf22bdfd",
   "metadata": {},
   "outputs": [],
   "source": [
    "import matplotlib.pyplot as plt \n",
    "%matplotlib inline \n",
    "import re \n",
    "import pandas as pd \n",
    "import tweepy \n",
    "from tweepy import OAuthHandler \n",
    "from textblob import TextBlob \n",
    "import csv \n",
    "import string \n",
    "import nltk \n",
    "from nltk.corpus import stopwords \n",
    "from nltk.tokenize import word_tokenize\n",
    "from nltk.stem import WordNetLemmatizer \n",
    "from wordcloud import WordCloud,STOPWORDS \n",
    "from nltk.stem.porter import PorterStemmer\n",
    "import requests \n",
    "import json \n"
   ]
  },
  {
   "cell_type": "markdown",
   "id": "eb2601f8-a1dd-41d8-b1e3-985ea5c42d66",
   "metadata": {},
   "source": [
    "#### Establish Connection with the Project Dashboard (Twitter Developer API)"
   ]
  },
  {
   "cell_type": "code",
   "execution_count": 2,
   "id": "d030530e-a9f0-4676-8481-a084246cc2a9",
   "metadata": {},
   "outputs": [
    {
     "name": "stderr",
     "output_type": "stream",
     "text": [
      "[nltk_data] Downloading package stopwords to\n",
      "[nltk_data]     C:\\Users\\bhuwa\\AppData\\Roaming\\nltk_data...\n",
      "[nltk_data]   Package stopwords is already up-to-date!\n"
     ]
    }
   ],
   "source": [
    "nltk.download('stopwords')\n",
    "n_words = set(stopwords.words('english')) # stop words list \n",
    "porter = PorterStemmer()"
   ]
  },
  {
   "cell_type": "markdown",
   "id": "ecfb3999-cd4a-4ec0-bf66-42ad805ec00d",
   "metadata": {
    "tags": []
   },
   "source": [
    "## References \n",
    "\n",
    "[Twitter Client Documentation V2 Endpoints (Tweepy Library)](https://docs.tweepy.org/en/stable/client.html)"
   ]
  },
  {
   "cell_type": "markdown",
   "id": "32af1ae0-dda1-4893-9cff-52e582e9e761",
   "metadata": {},
   "source": [
    "### Set Up"
   ]
  },
  {
   "cell_type": "code",
   "execution_count": 3,
   "id": "1d56253f-a1bf-4d9e-a16b-863e15c2b5f5",
   "metadata": {},
   "outputs": [],
   "source": [
    "# Connect to the API using the Keys \n",
    "# use the following function: \n",
    "# client = connect_client(<inser params>) \n",
    "# client.<insert end points used by Twitter V2>\n",
    "def connect_client(consumer_key, consumer_secret, bearer_token, access_token, access_token_secret):\n",
    "    client = tweepy.Client( bearer_token=bearer_token, \n",
    "                        consumer_key=consumer_key, \n",
    "                        consumer_secret=consumer_secret, \n",
    "                        access_token=access_token, \n",
    "                        access_token_secret=access_token_secret, \n",
    "                        return_type = requests.Response,\n",
    "                        wait_on_rate_limit=True)\n",
    "    return client\n",
    "    \n",
    "    \n",
    "# Obtain recent most tweets \n",
    "# Params: query and client \n",
    "# Output: Dataframe of tweets \n",
    "def get_recent_tweets(query, client):\n",
    "    tweets = client.search_recent_tweets(query = query, tweet_fields = ['author_id', 'created_at'], max_results=100) \n",
    "    \n",
    "    \n",
    "    tweets_dict = tweets.json()\n",
    "    \n",
    "    return pd.json_normalize(tweets_dict['data'])\n",
    "    \n"
   ]
  },
  {
   "cell_type": "code",
   "execution_count": 5,
   "id": "043b4060-90cb-4eac-a71d-adfad3e053d3",
   "metadata": {},
   "outputs": [],
   "source": [
    "\n",
    "client = connect_client(consumer_key, consumer_secret, bearer_token, access_token, access_token_secret)\n",
    "\n",
    "query = \"Russia Oil\"\n",
    "# tweets = get_recent_tweets(query, client)\n",
    "client = connect_client(consumer_key, consumer_secret, bearer_token, access_token, access_token_secret)"
   ]
  },
  {
   "cell_type": "markdown",
   "id": "6018d904-b660-4ce7-bff3-7802c6cc316e",
   "metadata": {},
   "source": [
    "## Way to get a single tweet from tweet id "
   ]
  },
  {
   "cell_type": "code",
   "execution_count": 9,
   "id": "6380fac2-cbf4-4ed5-a516-ed5b44ebf0ea",
   "metadata": {},
   "outputs": [
    {
     "data": {
      "text/plain": [
       "{'data': {'id': '1497831432420569093',\n",
       "  'text': 'RT @Ukraine: Stand with the people of Ukraine. Now accepting cryptocurrency donations. Bitcoin, Ethereum and USDT.\\n\\nBTC - 357a3So9CbsNfBBgF…'}}"
      ]
     },
     "execution_count": 9,
     "metadata": {},
     "output_type": "execute_result"
    }
   ],
   "source": [
    "client.get_tweet(1497831432420569093).json()"
   ]
  },
  {
   "cell_type": "code",
   "execution_count": 84,
   "id": "4ba4a6ad-7659-46c8-90d4-b1003bf85c38",
   "metadata": {},
   "outputs": [],
   "source": [
    "tweets['created_at'] = pd.to_datetime(tweets['created_at'])"
   ]
  },
  {
   "cell_type": "markdown",
   "id": "03a551d9-501c-409e-a290-fa6788c46898",
   "metadata": {},
   "source": [
    "#### Preprocessing of Text"
   ]
  },
  {
   "cell_type": "code",
   "execution_count": 85,
   "id": "599dc2e4-c1d0-4682-a6d0-ad37fa734de3",
   "metadata": {},
   "outputs": [
    {
     "data": {
      "text/plain": [
       "0    2022-04-09 03:15:39+00:00\n",
       "1    2022-04-09 03:15:36+00:00\n",
       "2    2022-04-09 03:15:32+00:00\n",
       "3    2022-04-09 03:15:26+00:00\n",
       "4    2022-04-09 03:15:19+00:00\n",
       "                ...           \n",
       "95   2022-04-09 03:01:03+00:00\n",
       "96   2022-04-09 03:00:57+00:00\n",
       "97   2022-04-09 03:00:54+00:00\n",
       "98   2022-04-09 03:00:46+00:00\n",
       "99   2022-04-09 03:00:45+00:00\n",
       "Name: created_at, Length: 100, dtype: datetime64[ns, UTC]"
      ]
     },
     "execution_count": 85,
     "metadata": {},
     "output_type": "execute_result"
    }
   ],
   "source": [
    "tweets['created_at']"
   ]
  },
  {
   "cell_type": "code",
   "execution_count": 88,
   "id": "e27beacd-b29f-410b-a421-1a9c1adec035",
   "metadata": {},
   "outputs": [
    {
     "name": "stderr",
     "output_type": "stream",
     "text": [
      "[nltk_data] Downloading package punkt to\n",
      "[nltk_data]     C:\\Users\\bhuwa\\AppData\\Roaming\\nltk_data...\n",
      "[nltk_data]   Unzipping tokenizers\\punkt.zip.\n"
     ]
    }
   ],
   "source": [
    "def clean_up_tweet(tweet):\n",
    "    # cleaning the tweet from @ tags and links \n",
    "    tweet = ' '.join(re.sub(\"(@[A-Za-z0-9]+)|([^0-9A-Za-z \\t]) | (\\w+:\\/\\/\\S+)\", \"\", tweet).split())\n",
    "    # converting all letters to lower case and replacing '-' with spaces\n",
    "    tweet = tweet.lower().replace('-', ' ')\n",
    "    table = str.maketrans('', '', string.punctuation+string.digits)\n",
    "    tweet = tweet.translate(table) \n",
    "    # tokenising words\n",
    "    tokens = word_tokenize(tweet) \n",
    "    stemmed = [porter.stem(word) for word in tokens]\n",
    "    words = [w for w in stemmed if not w in n_words]\n",
    "    \n",
    "    tweet = ' '.join(words)\n",
    "    return tweet\n",
    "\n",
    "\n",
    "import nltk\n",
    "nltk.download('punkt')\n",
    "\n",
    "tweets['text'] = tweets['text'].apply(lambda x: clean_up_tweet(x))"
   ]
  },
  {
   "cell_type": "code",
   "execution_count": 113,
   "id": "19f8a4d1-1585-4f16-a5c1-a2f080f505b5",
   "metadata": {},
   "outputs": [],
   "source": [
    "tweets_df = (tweets['text'])"
   ]
  },
  {
   "cell_type": "markdown",
   "id": "0d526b76-b594-48d3-83ed-4dd8bc23f098",
   "metadata": {},
   "source": [
    "#### Analysing Sentiment "
   ]
  },
  {
   "cell_type": "markdown",
   "id": "b8aa2ad7-1aa4-4d5a-aa68-89eb960cbd9d",
   "metadata": {},
   "source": [
    "analysis = TextBlob(tweet) \n",
    "senti = analysis.sentiment.polarity\n",
    "\n",
    "if senti < 0: \n",
    "    emotion = \"NEG\"\n",
    "elif senti > 0: \n",
    "    emotion = \"POS\" \n",
    "else: \n",
    "    emotion = \"NEU\""
   ]
  },
  {
   "cell_type": "code",
   "execution_count": 119,
   "id": "d9407dcd-cd5f-4951-939f-2effd2faef66",
   "metadata": {},
   "outputs": [],
   "source": [
    "def get_tweets(tweets_df): \n",
    "    tweets = [] \n",
    "    try: \n",
    "        for tweet in tweets_df.iteritems():\n",
    "            analysis = TextBlob(str(tweet))\n",
    "            senti= analysis.sentiment.polarity\n",
    "            # labeling the sentiment\n",
    "            if senti < 0 :\n",
    "                emotion = \"NEG\"\n",
    "            elif senti > 0 :\n",
    "                emotion= \"POS\"\n",
    "            else:\n",
    "                emotion= \"NEU\"\n",
    "            # appending all data\n",
    "            tweets.append((tweet, senti, emotion))\n",
    "        return tweets\n",
    "    except tweepy.TweepyException as e: \n",
    "        print(\"Error : \" + str(e))"
   ]
  },
  {
   "cell_type": "code",
   "execution_count": 121,
   "id": "f32afd7c-5c01-49c3-a497-361d9a68ba7b",
   "metadata": {},
   "outputs": [],
   "source": [
    "# Get sentiment \n",
    "sentiment_table = get_tweets(tweets_df)"
   ]
  },
  {
   "cell_type": "code",
   "execution_count": 124,
   "id": "84ad7b4d-52be-4d56-836e-45a6151bab73",
   "metadata": {},
   "outputs": [],
   "source": [
    "sentiment_df = pd.DataFrame(sentiment_table, columns=['tweet', 'senti', 'emotion'])"
   ]
  },
  {
   "cell_type": "code",
   "execution_count": 161,
   "id": "ee633e9b-dda3-4335-9325-be593aaf6052",
   "metadata": {},
   "outputs": [
    {
     "data": {
      "text/plain": [
       "<BarContainer object of 3 artists>"
      ]
     },
     "execution_count": 161,
     "metadata": {},
     "output_type": "execute_result"
    },
    {
     "data": {
      "image/png": "[encoded data removed]",
      "text/plain": [
       "<Figure size 648x648 with 1 Axes>"
      ]
     },
     "metadata": {
      "needs_background": "light"
     },
     "output_type": "display_data"
    }
   ],
   "source": [
    "emotion_dict = {'Neutral': 75, 'Positive': 17, 'Negative': 8}\n",
    "\n",
    "fig, axs = plt.subplots(figsize=(9,9), sharey=True)\n",
    "\n",
    "names = list(emotion_dict.keys())\n",
    "values = list(emotion_dict.values())\n",
    "\n",
    "plt.bar(names, values)"
   ]
  },
  {
   "cell_type": "code",
   "execution_count": 135,
   "id": "b0b2c9e9-b7fa-4a5a-989d-f35c5aa31666",
   "metadata": {},
   "outputs": [],
   "source": [
    "file_path = '09_04_2022_Ukraine Russia Oil.json'\n",
    "with open(file_path, encoding='utf8') as f:\n",
    "    data = json.loads(f.read())\n",
    "\n",
    "ukraine_russia_oil = pd.json_normalize(data['data'])"
   ]
  },
  {
   "cell_type": "code",
   "execution_count": 139,
   "id": "4ad38189-f6cc-4de5-9186-a8d116aed523",
   "metadata": {},
   "outputs": [],
   "source": [
    "ukraine_russia_oil_sentiment = get_tweets(ukraine_russia_oil['text'])"
   ]
  },
  {
   "cell_type": "code",
   "execution_count": 142,
   "id": "a56ca989-0dcc-46a5-8de3-a362b5893066",
   "metadata": {},
   "outputs": [],
   "source": [
    "ukraine_russia_oil_sentiment_table = pd.DataFrame(ukraine_russia_oil_sentiment, columns=['tweet', 'senti', 'emotion'])"
   ]
  },
  {
   "cell_type": "code",
   "execution_count": 148,
   "id": "efdb56f5-2743-40e4-8f56-662ba8e89d7d",
   "metadata": {},
   "outputs": [
    {
     "data": {
      "text/plain": [
       "NEU    81\n",
       "POS    13\n",
       "NEG     6\n",
       "Name: emotion, dtype: int64"
      ]
     },
     "execution_count": 148,
     "metadata": {},
     "output_type": "execute_result"
    }
   ],
   "source": [
    "ukraine_russia_oil_sentiment_table['emotion'].value_counts()"
   ]
  },
  {
   "cell_type": "code",
   "execution_count": 154,
   "id": "12696d4f-5537-4f50-9317-47c6ed751d29",
   "metadata": {},
   "outputs": [],
   "source": [
    "bar_plot = ukraine_russia_oil_sentiment_table['emotion'].value_counts()"
   ]
  },
  {
   "cell_type": "code",
   "execution_count": 159,
   "id": "dd3566b9-de2d-4178-8ab6-95ef67629d7f",
   "metadata": {},
   "outputs": [
    {
     "data": {
      "text/plain": [
       "<BarContainer object of 3 artists>"
      ]
     },
     "execution_count": 159,
     "metadata": {},
     "output_type": "execute_result"
    },
    {
     "data": {
      "image/png": "[encoded data removed]",
      "text/plain": [
       "<Figure size 648x648 with 1 Axes>"
      ]
     },
     "metadata": {
      "needs_background": "light"
     },
     "output_type": "display_data"
    }
   ],
   "source": [
    "plot_values = {'Neutral': 81, 'Positive': 13, 'Negative' : 6}\n",
    "values = list(plot_values.values())\n",
    "names = list(plot_values.keys())\n",
    "\n",
    "fig, axs = plt.subplots(figsize=(9, 9), sharey=True)\n",
    "axs.bar(names, values)"
   ]
  }
 ],
 "metadata": {
  "kernelspec": {
   "display_name": "Python 3 (ipykernel)",
   "language": "python",
   "name": "python3"
  },
  "language_info": {
   "codemirror_mode": {
    "name": "ipython",
    "version": 3
   },
   "file_extension": ".py",
   "mimetype": "text/x-python",
   "name": "python",
   "nbconvert_exporter": "python",
   "pygments_lexer": "ipython3",
   "version": "3.9.7"
  }
 },
 "nbformat": 4,
 "nbformat_minor": 5
}
