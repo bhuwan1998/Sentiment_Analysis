{
 "cells": [
  {
   "cell_type": "code",
   "execution_count": null,
   "id": "66e9f542-acc8-4a92-b896-2b2abb7e5246",
   "metadata": {},
   "outputs": [],
   "source": [
    "# Imports "
   ]
  },
  {
   "cell_type": "code",
   "execution_count": 104,
   "id": "85dc44a4-2989-40f1-b161-6ad273faf81c",
   "metadata": {},
   "outputs": [],
   "source": [
    "import os \n",
    "import pandas as pd \n",
    "from os import listdir\n",
    "from datetime import date, datetime, timedelta\n",
    "import seaborn as sns\n",
    "from sklearn.feature_extraction.text import CountVectorizer\n",
    "import nltk \n",
    "import string\n",
    "import re\n",
    "%matplotlib inline\n",
    "from textblob import TextBlob \n",
    "import datetime as dt\n",
    "pd.set_option('display.max_colwidth', 100)\n",
    "import matplotlib.pyplot as plt \n",
    "import plotly.express as px \n",
    "import seaborn as sns\n",
    "from sklearn.model_selection import train_test_split"
   ]
  },
  {
   "cell_type": "code",
   "execution_count": 58,
   "id": "6a80b0ad-778e-4858-8da2-979322b5b89a",
   "metadata": {},
   "outputs": [],
   "source": [
    "# Import Raw File \n",
    "# Output Cleaned Dataset to CSV for future use "
   ]
  },
  {
   "cell_type": "code",
   "execution_count": 59,
   "id": "837ebd2e-6cd7-4a80-9175-06a8922a54b9",
   "metadata": {},
   "outputs": [],
   "source": [
    "raw_data = pd.read_csv('Combined_Raw_Hourly_Data.csv')"
   ]
  },
  {
   "cell_type": "code",
   "execution_count": 60,
   "id": "39ba874e-a099-42d6-be57-3d3cadc9029d",
   "metadata": {},
   "outputs": [],
   "source": [
    "# Clean Helper Function\n",
    "\n",
    "# filter dataframe using 'language' column\n",
    "def filter_lang(dataframe):\n",
    "    dataframe = dataframe.loc[dataframe['lang'] == 'en']\n",
    "    return dataframe\n",
    "\n",
    "# filter dataframe using 'sourceLabel' column\n",
    "def filter_source(dataframe):\n",
    "    dataframe.loc[dataframe['sourceLabel'].str.contains('iPad|iPhone|Mac'), 'sourceLabel'] = 'twitter for ios'\n",
    "    dataframe.loc[dataframe['sourceLabel'].str.contains('Android'), 'sourceLabel'] = 'twitter for android'\n",
    "    dataframe.loc[dataframe['sourceLabel'].str.contains('News'), 'sourceLabel'] = 'news sources'\n",
    "    return dataframe\n",
    "\n",
    "# apply both filter_lang and filter_source functions to a dataframe\n",
    "def filtered_data(dataframe):\n",
    "    dataframe = filter_lang(dataframe)\n",
    "    dataframe = filter_source(dataframe)\n",
    "    return dataframe"
   ]
  },
  {
   "cell_type": "code",
   "execution_count": 61,
   "id": "7df1ed25-9687-49bc-a4c1-b6905642c564",
   "metadata": {},
   "outputs": [
    {
     "name": "stderr",
     "output_type": "stream",
     "text": [
      "[nltk_data] Downloading package names to\n",
      "[nltk_data]     C:\\Users\\bhuwa\\AppData\\Roaming\\nltk_data...\n",
      "[nltk_data]   Package names is already up-to-date!\n",
      "[nltk_data] Downloading package stopwords to\n",
      "[nltk_data]     C:\\Users\\bhuwa\\AppData\\Roaming\\nltk_data...\n",
      "[nltk_data]   Package stopwords is already up-to-date!\n",
      "[nltk_data] Downloading package state_union to\n",
      "[nltk_data]     C:\\Users\\bhuwa\\AppData\\Roaming\\nltk_data...\n",
      "[nltk_data]   Package state_union is already up-to-date!\n",
      "[nltk_data] Downloading package twitter_samples to\n",
      "[nltk_data]     C:\\Users\\bhuwa\\AppData\\Roaming\\nltk_data...\n",
      "[nltk_data]   Package twitter_samples is already up-to-date!\n",
      "[nltk_data] Downloading package averaged_perceptron_tagger to\n",
      "[nltk_data]     C:\\Users\\bhuwa\\AppData\\Roaming\\nltk_data...\n",
      "[nltk_data]   Package averaged_perceptron_tagger is already up-to-\n",
      "[nltk_data]       date!\n",
      "[nltk_data] Downloading package vader_lexicon to\n",
      "[nltk_data]     C:\\Users\\bhuwa\\AppData\\Roaming\\nltk_data...\n",
      "[nltk_data]   Package vader_lexicon is already up-to-date!\n",
      "[nltk_data] Downloading package punkt to\n",
      "[nltk_data]     C:\\Users\\bhuwa\\AppData\\Roaming\\nltk_data...\n",
      "[nltk_data]   Package punkt is already up-to-date!\n"
     ]
    }
   ],
   "source": [
    "#https://aronakhmad.medium.com/twitter-data-cleaning-using-python-db1ec2f28f08\n",
    "from nltk.corpus import stopwords \n",
    "from nltk.tokenize import word_tokenize\n",
    "from nltk.stem import WordNetLemmatizer \n",
    "from wordcloud import WordCloud,STOPWORDS \n",
    "from nltk.stem.porter import PorterStemmer\n",
    "\n",
    "nltk.download([\"names\",\"stopwords\",\"state_union\",\"twitter_samples\",\"averaged_perceptron_tagger\",\"vader_lexicon\",\"punkt\"])\n",
    "\n",
    "n_words = set(stopwords.words('english')) # stop words list \n",
    "porter = PorterStemmer()\n",
    "\n",
    "\n",
    "stemmer = nltk.SnowballStemmer(\"english\")\n",
    "stopword=set(stopwords.words('english'))\n",
    "\n",
    "def clean(text):\n",
    "    text = str(text).lower()\n",
    "    text = re.sub('\\[.*?\\]', '', text)\n",
    "    text = re.sub('https?://\\S+|www\\.\\S+', '', text)\n",
    "    text = re.sub('<.*?>+', '', text)\n",
    "    text = re.sub('[%s]' % re.escape(string.punctuation), '', text)\n",
    "    text = re.sub('\\n', '', text)\n",
    "    text = re.sub('\\w*\\d\\w*', '', text)\n",
    "    text = [word for word in text.split(' ') if word not in stopword]\n",
    "    text=\" \".join(text)\n",
    "    text = [stemmer.stem(word) for word in text.split(' ')]\n",
    "    text=\" \".join(text)\n",
    "    return text"
   ]
  },
  {
   "cell_type": "code",
   "execution_count": 62,
   "id": "03117734-63bd-4ca7-b75c-55e77bb306f6",
   "metadata": {},
   "outputs": [
    {
     "name": "stderr",
     "output_type": "stream",
     "text": [
      "C:\\Users\\bhuwa\\AppData\\Local\\Temp/ipykernel_22616/2094428378.py:6: SettingWithCopyWarning:\n",
      "\n",
      "\n",
      "A value is trying to be set on a copy of a slice from a DataFrame.\n",
      "Try using .loc[row_indexer,col_indexer] = value instead\n",
      "\n",
      "See the caveats in the documentation: https://pandas.pydata.org/pandas-docs/stable/user_guide/indexing.html#returning-a-view-versus-a-copy\n",
      "\n"
     ]
    }
   ],
   "source": [
    "# Clean using the functions above \n",
    "filtered_english_df = filter_lang(raw_data)\n",
    "\n",
    "filtered_source_df = filter_source(filtered_english_df)\n",
    "\n",
    "filtered_source_df['content'] = filtered_source_df.content.apply(lambda x: clean(x))"
   ]
  },
  {
   "cell_type": "code",
   "execution_count": 68,
   "id": "26f87cbd-1a59-4a5b-8612-85874450cc84",
   "metadata": {},
   "outputs": [],
   "source": [
    "# Clean Data \n",
    "filtered_source_df.to_csv('Filtered_Combined.csv', index=False)\n",
    "\n",
    "# Output Cleaned Dataset \n",
    "data_df = pd.read_csv('Filtered_Combined.csv')"
   ]
  },
  {
   "cell_type": "code",
   "execution_count": 70,
   "id": "d7714b16-2977-4700-bad7-a761b0120a46",
   "metadata": {},
   "outputs": [
    {
     "data": {
      "text/plain": [
       "Text(0, 0.5, 'Stock price')"
      ]
     },
     "execution_count": 70,
     "metadata": {},
     "output_type": "execute_result"
    },
    {
     "data": {
      "image/png": "[encoded data removed]",
      "text/plain": [
       "<Figure size 432x288 with 1 Axes>"
      ]
     },
     "metadata": {
      "needs_background": "light"
     },
     "output_type": "display_data"
    }
   ],
   "source": [
    "# Sentiment Analyser Functions \n",
    "data_df['Adj Close'].plot(grid = True)\n",
    "sns.set(rc={'figure.figsize':(15, 9)})\n",
    "plt.title('Adjusted Close Price Crude Oil', color = 'black', fontsize = 20)\n",
    "plt.xlabel('Hour', color = 'black', fontsize = 15)\n",
    "plt.ylabel('Stock price', color = 'black', fontsize = 15)"
   ]
  },
  {
   "cell_type": "code",
   "execution_count": 71,
   "id": "3544c4b2-b83e-4054-8c60-0c84a5ecdbbc",
   "metadata": {},
   "outputs": [],
   "source": [
    "from nltk.sentiment import SentimentIntensityAnalyzer\n",
    "vader = SentimentIntensityAnalyzer()\n",
    "\n",
    "#iterate through the tweets and get polarity scores using vader \n",
    "scores = data_df['content'].apply(vader.polarity_scores).to_list()"
   ]
  },
  {
   "cell_type": "code",
   "execution_count": 75,
   "id": "129432fb-6223-4966-8556-8698b1dde1c3",
   "metadata": {},
   "outputs": [
    {
     "data": {
      "text/html": [
       "<div>\n",
       "<style scoped>\n",
       "    .dataframe tbody tr th:only-of-type {\n",
       "        vertical-align: middle;\n",
       "    }\n",
       "\n",
       "    .dataframe tbody tr th {\n",
       "        vertical-align: top;\n",
       "    }\n",
       "\n",
       "    .dataframe thead th {\n",
       "        text-align: right;\n",
       "    }\n",
       "</style>\n",
       "<table border=\"1\" class=\"dataframe\">\n",
       "  <thead>\n",
       "    <tr style=\"text-align: right;\">\n",
       "      <th></th>\n",
       "      <th>date</th>\n",
       "      <th>Open</th>\n",
       "      <th>High</th>\n",
       "      <th>Low</th>\n",
       "      <th>Close</th>\n",
       "      <th>Adj Close</th>\n",
       "      <th>Volume</th>\n",
       "      <th>_type</th>\n",
       "      <th>url</th>\n",
       "      <th>content</th>\n",
       "      <th>...</th>\n",
       "      <th>inReplyToUser</th>\n",
       "      <th>mentionedUsers</th>\n",
       "      <th>coordinates</th>\n",
       "      <th>place</th>\n",
       "      <th>hashtags</th>\n",
       "      <th>cashtags</th>\n",
       "      <th>neg</th>\n",
       "      <th>neu</th>\n",
       "      <th>pos</th>\n",
       "      <th>compound</th>\n",
       "    </tr>\n",
       "  </thead>\n",
       "  <tbody>\n",
       "    <tr>\n",
       "      <th>0</th>\n",
       "      <td>2021-11-21 21:00:00+00:00</td>\n",
       "      <td>75.459999</td>\n",
       "      <td>75.690002</td>\n",
       "      <td>75.330002</td>\n",
       "      <td>75.580002</td>\n",
       "      <td>75.580002</td>\n",
       "      <td>4581</td>\n",
       "      <td>snscrape.modules.twitter.Tweet</td>\n",
       "      <td>https://twitter.com/jsmith9999992/status/1462529814976413698</td>\n",
       "      <td>biancoresearch rough  oil consum franc eu countri suppli russia russia invad ukrain franc rest w...</td>\n",
       "      <td>...</td>\n",
       "      <td>{'_type': 'snscrape.modules.twitter.User', 'username': 'biancoresearch', 'id': 188369814, 'displ...</td>\n",
       "      <td>[{'_type': 'snscrape.modules.twitter.User', 'username': 'biancoresearch', 'id': 188369814, 'disp...</td>\n",
       "      <td>NaN</td>\n",
       "      <td>NaN</td>\n",
       "      <td>NaN</td>\n",
       "      <td>NaN</td>\n",
       "      <td>0.0</td>\n",
       "      <td>0.956</td>\n",
       "      <td>0.044</td>\n",
       "      <td>0.0258</td>\n",
       "    </tr>\n",
       "    <tr>\n",
       "      <th>1</th>\n",
       "      <td>2021-11-21 21:00:00+00:00</td>\n",
       "      <td>75.459999</td>\n",
       "      <td>75.690002</td>\n",
       "      <td>75.330002</td>\n",
       "      <td>75.580002</td>\n",
       "      <td>75.580002</td>\n",
       "      <td>4581</td>\n",
       "      <td>snscrape.modules.twitter.Tweet</td>\n",
       "      <td>https://twitter.com/Convertbond/status/1462524553335349249</td>\n",
       "      <td>us intellig show mass russia troop buildup near ukraine\\r\\reu us beg opec  russia oil gas putin</td>\n",
       "      <td>...</td>\n",
       "      <td>{'_type': 'snscrape.modules.twitter.User', 'username': 'Convertbond', 'id': 25163231, 'displayna...</td>\n",
       "      <td>NaN</td>\n",
       "      <td>NaN</td>\n",
       "      <td>NaN</td>\n",
       "      <td>NaN</td>\n",
       "      <td>NaN</td>\n",
       "      <td>0.0</td>\n",
       "      <td>1.000</td>\n",
       "      <td>0.000</td>\n",
       "      <td>0.0000</td>\n",
       "    </tr>\n",
       "  </tbody>\n",
       "</table>\n",
       "<p>2 rows × 38 columns</p>\n",
       "</div>"
      ],
      "text/plain": [
       "                        date       Open       High        Low      Close  \\\n",
       "0  2021-11-21 21:00:00+00:00  75.459999  75.690002  75.330002  75.580002   \n",
       "1  2021-11-21 21:00:00+00:00  75.459999  75.690002  75.330002  75.580002   \n",
       "\n",
       "   Adj Close  Volume                           _type  \\\n",
       "0  75.580002    4581  snscrape.modules.twitter.Tweet   \n",
       "1  75.580002    4581  snscrape.modules.twitter.Tweet   \n",
       "\n",
       "                                                            url  \\\n",
       "0  https://twitter.com/jsmith9999992/status/1462529814976413698   \n",
       "1    https://twitter.com/Convertbond/status/1462524553335349249   \n",
       "\n",
       "                                                                                               content  \\\n",
       "0  biancoresearch rough  oil consum franc eu countri suppli russia russia invad ukrain franc rest w...   \n",
       "1      us intellig show mass russia troop buildup near ukraine\\r\\reu us beg opec  russia oil gas putin   \n",
       "\n",
       "   ...  \\\n",
       "0  ...   \n",
       "1  ...   \n",
       "\n",
       "                                                                                         inReplyToUser  \\\n",
       "0  {'_type': 'snscrape.modules.twitter.User', 'username': 'biancoresearch', 'id': 188369814, 'displ...   \n",
       "1  {'_type': 'snscrape.modules.twitter.User', 'username': 'Convertbond', 'id': 25163231, 'displayna...   \n",
       "\n",
       "                                                                                        mentionedUsers  \\\n",
       "0  [{'_type': 'snscrape.modules.twitter.User', 'username': 'biancoresearch', 'id': 188369814, 'disp...   \n",
       "1                                                                                                  NaN   \n",
       "\n",
       "  coordinates  place  hashtags  cashtags  neg    neu    pos compound  \n",
       "0         NaN    NaN       NaN       NaN  0.0  0.956  0.044   0.0258  \n",
       "1         NaN    NaN       NaN       NaN  0.0  1.000  0.000   0.0000  \n",
       "\n",
       "[2 rows x 38 columns]"
      ]
     },
     "execution_count": 75,
     "metadata": {},
     "output_type": "execute_result"
    }
   ],
   "source": [
    "scores_df = pd.DataFrame(scores)\n",
    "\n",
    "parsed_scores_data = data_df.join(scores_df, rsuffix='_right')\n",
    "\n",
    "parsed_scores_data.head(2)"
   ]
  },
  {
   "cell_type": "code",
   "execution_count": null,
   "id": "426cd4de-cecf-4243-a8b1-21355de9cf01",
   "metadata": {},
   "outputs": [],
   "source": []
  },
  {
   "cell_type": "code",
   "execution_count": 106,
   "id": "7ddc64c0-4805-4e36-9ef3-eb308e701b4d",
   "metadata": {},
   "outputs": [
    {
     "data": {
      "text/plain": [
       "[<matplotlib.lines.Line2D at 0x12c1f23fe20>]"
      ]
     },
     "execution_count": 106,
     "metadata": {},
     "output_type": "execute_result"
    },
    {
     "data": {
      "image/png": "[encoded data removed]",
      "text/plain": [
       "<Figure size 432x288 with 1 Axes>"
      ]
     },
     "metadata": {},
     "output_type": "display_data"
    }
   ],
   "source": [
    "# Time Series Analysis \n",
    "import pandas_datareader.data as web \n",
    "import datetime\n",
    "from statsmodels.tsa.statespace.sarimax import SARIMAX\n",
    "import pyflux as pf\n",
    "\n",
    "\n",
    "\n",
    "pd.set_option('display.max_columns', None) \n",
    "pd.set_option('display.max_rows', None) \n",
    "\n",
    "\n",
    "# Close: The last price at which stock was purchased that day \n",
    "# Open : The first price at which Stock was purchased on that day \n",
    "# High : Highest price at which Stock was purchased that day \n",
    "# Volume : Number of total trades that day \n",
    "# Adj Close: the clsing price adjusted for dividends and stock splits \n",
    "\n",
    "sns.set() \n",
    "plt.ylabel('Crude Oil Price ($)') \n",
    "plt.xlabel('Date') \n",
    "plt.xticks(rotation=90)\n",
    "plt.title('Crude Oil Price', )\n",
    "\n",
    "plt.plot(parsed_scores_data['date'], parsed_scores_data['Adj Close'])"
   ]
  },
  {
   "cell_type": "code",
   "execution_count": 105,
   "id": "7d06c6bb-a44b-4cf6-bf94-8c3b9a5144e6",
   "metadata": {},
   "outputs": [],
   "source": [
    "x = parsed_scores_data[['High', 'Low', 'Volume', 'Open', 'compound', 'Close']]\n",
    "y = parsed_scores_data['Adj Close']\n",
    "x_train, x_test, y_train, y_test = train_test_split(x, y, test_size=0.25)"
   ]
  },
  {
   "cell_type": "code",
   "execution_count": 111,
   "id": "f9efe1e2-d577-4566-a376-70ee1e9d45b4",
   "metadata": {},
   "outputs": [
    {
     "data": {
      "text/plain": [
       "<AxesSubplot:>"
      ]
     },
     "execution_count": 111,
     "metadata": {},
     "output_type": "execute_result"
    },
    {
     "data": {
      "image/png": "[encoded data removed]",
      "text/plain": [
       "<Figure size 432x288 with 2 Axes>"
      ]
     },
     "metadata": {},
     "output_type": "display_data"
    }
   ],
   "source": [
    "z = parsed_scores_data[['Close', 'Adj Close', 'Volume', 'compound']]\n",
    "sns.heatmap(z.corr())"
   ]
  },
  {
   "cell_type": "code",
   "execution_count": null,
   "id": "246cea4a-55f4-40db-9a88-a7c27cb9c8e3",
   "metadata": {},
   "outputs": [],
   "source": [
    "# Prophet Time Series Model  \n",
    "stock_df = parsed_scores_data[['date','Adj Close']]\n",
    "\n",
    "# Prep Data\n",
    "stock_df = parsed_scores_data.reset_index() \n",
    "stock_df = stock_df.rename(columns={'date': 'ds', 'Adj Close': 'y'})"
   ]
  },
  {
   "cell_type": "code",
   "execution_count": null,
   "id": "ce68d52a-c51c-40a9-ba01-d6e9dde7749d",
   "metadata": {},
   "outputs": [],
   "source": [
    "modelLLT = pf.LLT(data=stock_df) \n",
    "\n",
    "x = modelLLT.fit()\n",
    "x.summary()"
   ]
  },
  {
   "cell_type": "code",
   "execution_count": null,
   "id": "d7652077-453b-44f3-98a5-74f5f12e4143",
   "metadata": {},
   "outputs": [],
   "source": [
    "# LSTM or RCNN"
   ]
  },
  {
   "cell_type": "code",
   "execution_count": null,
   "id": "c1d701f0-b98f-4119-9880-cfe87c753fcd",
   "metadata": {},
   "outputs": [],
   "source": []
  }
 ],
 "metadata": {
  "kernelspec": {
   "display_name": "Python 3 (ipykernel)",
   "language": "python",
   "name": "python3"
  },
  "language_info": {
   "codemirror_mode": {
    "name": "ipython",
    "version": 3
   },
   "file_extension": ".py",
   "mimetype": "text/x-python",
   "name": "python",
   "nbconvert_exporter": "python",
   "pygments_lexer": "ipython3",
   "version": "3.9.7"
  }
 },
 "nbformat": 4,
 "nbformat_minor": 5
}
