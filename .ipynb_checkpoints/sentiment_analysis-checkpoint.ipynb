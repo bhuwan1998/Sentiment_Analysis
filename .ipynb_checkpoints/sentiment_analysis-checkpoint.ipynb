{
 "cells": [
  {
   "cell_type": "code",
   "execution_count": 1,
   "id": "c392a233-dc32-4a2f-b7d5-14e6f1737ee3",
   "metadata": {},
   "outputs": [],
   "source": [
    "!pip install -q snscrape "
   ]
  },
  {
   "cell_type": "code",
   "execution_count": 6,
   "id": "e2eac5f9-bdf9-4d36-8d72-cb34cf8f8a6c",
   "metadata": {},
   "outputs": [],
   "source": [
    "import os \n",
    "import pandas as pd \n",
    "from datetime import date, datetime, timedelta"
   ]
  },
  {
   "cell_type": "code",
   "execution_count": 25,
   "id": "b39a0f11-e4c5-4ed9-921b-abe952abf5b6",
   "metadata": {},
   "outputs": [],
   "source": [
    "def date_range(start, end):\n",
    "    delta = end - start  # as timedelta\n",
    "    days = [start + timedelta(days=i) for i in range(delta.days + 1)]\n",
    "    return_days = [day.date() for day in days]\n",
    "    return return_days\n",
    "\n",
    "start_date = datetime(2021, 10, 31)\n",
    "end_date = datetime(2022, 4, 24)\n",
    "    \n",
    "date_range_for_data = date_range(start_date, end_date)"
   ]
  },
  {
   "cell_type": "code",
   "execution_count": 30,
   "id": "37ca24eb-40e4-4d0c-9300-33cf2dc8da6f",
   "metadata": {},
   "outputs": [],
   "source": [
    "# Get tweets function with \n",
    "# inputs (max_results, search_term, from_date, end_date)\n",
    "# For us the from and end date will be the same \n",
    "# it will output a csv in the current directory with date as the start of the file\n",
    "# and the search term (query at the start as well) \n",
    "def get_tweets(tweet_count, text_query, since_date, until_date):\n",
    "    # Using OS library to call CLI commands in Python\n",
    "    os.system('snscrape --jsonl --max-results {} --since {} twitter-search \"{} until:{}\"> text-query-tweets.json'.format( tweet_count, since_date, text_query, until_date))\n",
    "\n",
    "    # Reads the json generated from the CLI command above and creates a pandas dataframe\n",
    "    tweets_df = pd.read_json('text-query-tweets.json', lines=True)\n",
    "    tweets_df.to_csv(f'{since_date}_{text_query}_tweets.csv', sep=',', index=False)"
   ]
  },
  {
   "cell_type": "code",
   "execution_count": 33,
   "id": "c8392469-cbef-45d2-b566-35ba902f64e4",
   "metadata": {},
   "outputs": [],
   "source": [
    "tweet_count = 1000\n",
    "text_query = \"russia oil\"\n",
    "\n",
    "for date in date_range_for_data:\n",
    "    get_tweets(tweet_count, text_query, date, date)\n",
    "    \n",
    "    \n",
    "    "
   ]
  },
  {
   "cell_type": "markdown",
   "id": "9a21686d-9a84-4db5-a2fb-0829e39c4138",
   "metadata": {},
   "source": [
    "## Total number of tweets for search terms "
   ]
  },
  {
   "cell_type": "code",
   "execution_count": 26,
   "id": "a3f8cf17-478c-4d9f-a8a0-91de38703b0c",
   "metadata": {},
   "outputs": [
    {
     "ename": "NameError",
     "evalue": "name 'from_date' is not defined",
     "output_type": "error",
     "traceback": [
      "\u001b[1;31m---------------------------------------------------------------------------\u001b[0m",
      "\u001b[1;31mNameError\u001b[0m                                 Traceback (most recent call last)",
      "\u001b[1;32m~\\AppData\\Local\\Temp/ipykernel_8516/1521794157.py\u001b[0m in \u001b[0;36m<module>\u001b[1;34m\u001b[0m\n\u001b[1;32m----> 1\u001b[1;33m \u001b[0mos\u001b[0m\u001b[1;33m.\u001b[0m\u001b[0msystem\u001b[0m\u001b[1;33m(\u001b[0m\u001b[1;34mf\"snscrape --since {from_date} twitter-search '{search_term} until:{end_date}' > result-tweets.txt\"\u001b[0m\u001b[1;33m)\u001b[0m\u001b[1;33m\u001b[0m\u001b[1;33m\u001b[0m\u001b[0m\n\u001b[0m\u001b[0;32m      2\u001b[0m \u001b[1;32mif\u001b[0m \u001b[0mos\u001b[0m\u001b[1;33m.\u001b[0m\u001b[0mstat\u001b[0m\u001b[1;33m(\u001b[0m\u001b[1;34m\"result-tweets.txt\"\u001b[0m\u001b[1;33m)\u001b[0m\u001b[1;33m.\u001b[0m\u001b[0mst_size\u001b[0m \u001b[1;33m==\u001b[0m \u001b[1;36m0\u001b[0m\u001b[1;33m:\u001b[0m\u001b[1;33m\u001b[0m\u001b[1;33m\u001b[0m\u001b[0m\n\u001b[0;32m      3\u001b[0m     \u001b[0mcounter\u001b[0m \u001b[1;33m=\u001b[0m \u001b[1;36m0\u001b[0m\u001b[1;33m\u001b[0m\u001b[1;33m\u001b[0m\u001b[0m\n\u001b[0;32m      4\u001b[0m \u001b[1;32melse\u001b[0m\u001b[1;33m:\u001b[0m\u001b[1;33m\u001b[0m\u001b[1;33m\u001b[0m\u001b[0m\n\u001b[0;32m      5\u001b[0m     \u001b[0mdf\u001b[0m \u001b[1;33m=\u001b[0m \u001b[0mpd\u001b[0m\u001b[1;33m.\u001b[0m\u001b[0mread_csv\u001b[0m\u001b[1;33m(\u001b[0m\u001b[1;34m'result-tweets.txt'\u001b[0m\u001b[1;33m,\u001b[0m \u001b[0mnames\u001b[0m\u001b[1;33m=\u001b[0m\u001b[1;33m[\u001b[0m\u001b[1;34m'link'\u001b[0m\u001b[1;33m]\u001b[0m\u001b[1;33m)\u001b[0m\u001b[1;33m\u001b[0m\u001b[1;33m\u001b[0m\u001b[0m\n",
      "\u001b[1;31mNameError\u001b[0m: name 'from_date' is not defined"
     ]
    }
   ],
   "source": [
    "os.system(f\"snscrape --since {from_date} twitter-search '{search_term} until:{end_date}' > result-tweets.txt\")\n",
    "if os.stat(\"result-tweets.txt\").st_size == 0:\n",
    "    counter = 0\n",
    "else:\n",
    "    df = pd.read_csv('result-tweets.txt', names=['link'])\n",
    "    counter = df.size\n",
    "\n"
   ]
  },
  {
   "cell_type": "code",
   "execution_count": 27,
   "id": "4133dcf5-ee5f-4f84-aabd-7bc9188b02b4",
   "metadata": {},
   "outputs": [
    {
     "ename": "NameError",
     "evalue": "name 'from_date' is not defined",
     "output_type": "error",
     "traceback": [
      "\u001b[1;31m---------------------------------------------------------------------------\u001b[0m",
      "\u001b[1;31mNameError\u001b[0m                                 Traceback (most recent call last)",
      "\u001b[1;32m~\\AppData\\Local\\Temp/ipykernel_8516/301401399.py\u001b[0m in \u001b[0;36m<module>\u001b[1;34m\u001b[0m\n\u001b[0;32m      1\u001b[0m \u001b[0mmax_results\u001b[0m \u001b[1;33m=\u001b[0m \u001b[1;36m1000\u001b[0m\u001b[1;33m\u001b[0m\u001b[1;33m\u001b[0m\u001b[0m\n\u001b[0;32m      2\u001b[0m \u001b[1;33m\u001b[0m\u001b[0m\n\u001b[1;32m----> 3\u001b[1;33m \u001b[0mextracted_tweets\u001b[0m \u001b[1;33m=\u001b[0m \u001b[1;34m\"snscrape --format '{content!r}'\"\u001b[0m\u001b[1;33m+\u001b[0m \u001b[1;34mf\" --max-results {max_results} --since {from_date} twitter-search '{search_term} until:{end_date}' > extracted-tweets.txt\"\u001b[0m\u001b[1;33m\u001b[0m\u001b[1;33m\u001b[0m\u001b[0m\n\u001b[0m\u001b[0;32m      4\u001b[0m \u001b[0mos\u001b[0m\u001b[1;33m.\u001b[0m\u001b[0msystem\u001b[0m\u001b[1;33m(\u001b[0m\u001b[0mextracted_tweets\u001b[0m\u001b[1;33m)\u001b[0m\u001b[1;33m\u001b[0m\u001b[1;33m\u001b[0m\u001b[0m\n\u001b[0;32m      5\u001b[0m \u001b[1;32mif\u001b[0m \u001b[0mos\u001b[0m\u001b[1;33m.\u001b[0m\u001b[0mstat\u001b[0m\u001b[1;33m(\u001b[0m\u001b[1;34m\"extracted-tweets.txt\"\u001b[0m\u001b[1;33m)\u001b[0m\u001b[1;33m.\u001b[0m\u001b[0mst_size\u001b[0m \u001b[1;33m==\u001b[0m \u001b[1;36m0\u001b[0m\u001b[1;33m:\u001b[0m\u001b[0mprint\u001b[0m\u001b[1;33m(\u001b[0m\u001b[1;34m'No Tweets found'\u001b[0m\u001b[1;33m)\u001b[0m\u001b[1;33m\u001b[0m\u001b[1;33m\u001b[0m\u001b[0m\n",
      "\u001b[1;31mNameError\u001b[0m: name 'from_date' is not defined"
     ]
    }
   ],
   "source": [
    "max_results = 1000 \n",
    "\n",
    "extracted_tweets = \"snscrape --format '{content!r}'\"+ f\" --max-results {max_results} --since {from_date} twitter-search '{search_term} until:{end_date}' > extracted-tweets.txt\"\n",
    "os.system(extracted_tweets)\n",
    "if os.stat(\"extracted-tweets.txt\").st_size == 0:print('No Tweets found')\n",
    "else:\n",
    "    df = pd.read_csv('extracted-tweets.txt', names=['content'])\n",
    "   "
   ]
  },
  {
   "cell_type": "code",
   "execution_count": 21,
   "id": "8cc32528-ad6f-46d8-b833-f91fbf6ff4d9",
   "metadata": {},
   "outputs": [
    {
     "data": {
      "text/html": [
       "<div>\n",
       "<style scoped>\n",
       "    .dataframe tbody tr th:only-of-type {\n",
       "        vertical-align: middle;\n",
       "    }\n",
       "\n",
       "    .dataframe tbody tr th {\n",
       "        vertical-align: top;\n",
       "    }\n",
       "\n",
       "    .dataframe thead th {\n",
       "        text-align: right;\n",
       "    }\n",
       "</style>\n",
       "<table border=\"1\" class=\"dataframe\">\n",
       "  <thead>\n",
       "    <tr style=\"text-align: right;\">\n",
       "      <th></th>\n",
       "      <th>content</th>\n",
       "    </tr>\n",
       "  </thead>\n",
       "  <tbody>\n",
       "    <tr>\n",
       "      <th>0</th>\n",
       "      <td>'@TomCottonAR Same thing in Russia !!'</td>\n",
       "    </tr>\n",
       "    <tr>\n",
       "      <th>1</th>\n",
       "      <td>'@Russia @OlegMKS @denis_mks https://t.co/4Ccr...</td>\n",
       "    </tr>\n",
       "    <tr>\n",
       "      <th>2</th>\n",
       "      <td>'@fellahfedan @EvaKBartlett Russia controls th...</td>\n",
       "    </tr>\n",
       "    <tr>\n",
       "      <th>3</th>\n",
       "      <td>@mikewoodottawa My Canada does NOT want Chris ...</td>\n",
       "    </tr>\n",
       "    <tr>\n",
       "      <th>4</th>\n",
       "      <td>Russia rains fire on Kyiv tonight. It's time f...</td>\n",
       "    </tr>\n",
       "    <tr>\n",
       "      <th>...</th>\n",
       "      <td>...</td>\n",
       "    </tr>\n",
       "    <tr>\n",
       "      <th>980</th>\n",
       "      <td>'@RF_OSCE @EUOSCE @RussiaUN @RusEmbUSA @mfa_ru...</td>\n",
       "    </tr>\n",
       "    <tr>\n",
       "      <th>981</th>\n",
       "      <td>@AnneCoakley6 @seanspicer Wow inflation cause ...</td>\n",
       "    </tr>\n",
       "    <tr>\n",
       "      <th>982</th>\n",
       "      <td>'#CyberWarUpdate 📱💻\\n\\n🇷🇺 \"Russia Is Being Hac...</td>\n",
       "    </tr>\n",
       "    <tr>\n",
       "      <th>983</th>\n",
       "      <td>'Russia-Ukraine struggle: Russia’s occupation ...</td>\n",
       "    </tr>\n",
       "    <tr>\n",
       "      <th>984</th>\n",
       "      <td>'@archillect Russia sometime soon.'</td>\n",
       "    </tr>\n",
       "  </tbody>\n",
       "</table>\n",
       "<p>985 rows × 1 columns</p>\n",
       "</div>"
      ],
      "text/plain": [
       "                                               content\n",
       "0               '@TomCottonAR Same thing in Russia !!'\n",
       "1    '@Russia @OlegMKS @denis_mks https://t.co/4Ccr...\n",
       "2    '@fellahfedan @EvaKBartlett Russia controls th...\n",
       "3    @mikewoodottawa My Canada does NOT want Chris ...\n",
       "4    Russia rains fire on Kyiv tonight. It's time f...\n",
       "..                                                 ...\n",
       "980  '@RF_OSCE @EUOSCE @RussiaUN @RusEmbUSA @mfa_ru...\n",
       "981  @AnneCoakley6 @seanspicer Wow inflation cause ...\n",
       "982  '#CyberWarUpdate 📱💻\\n\\n🇷🇺 \"Russia Is Being Hac...\n",
       "983  'Russia-Ukraine struggle: Russia’s occupation ...\n",
       "984                '@archillect Russia sometime soon.'\n",
       "\n",
       "[985 rows x 1 columns]"
      ]
     },
     "execution_count": 21,
     "metadata": {},
     "output_type": "execute_result"
    }
   ],
   "source": []
  },
  {
   "cell_type": "code",
   "execution_count": 42,
   "id": "7cabc872-c311-49b8-9a45-cf56c5ef571b",
   "metadata": {},
   "outputs": [],
   "source": [
    "# Setting variables to be used in format string command below\n",
    "tweet_count = 500\n",
    "text_query = \"russia ukraine oil\"\n",
    "since_date = \"2021-10-31\"\n",
    "until_date = \"2022-04-28\"\n",
    "\n",
    "# Using OS library to call CLI commands in Python\n",
    "os.system('snscrape --jsonl --max-results {} --since {} twitter-search \"{} until:{}\"> text-query-tweets.json'.format( tweet_count, since_date, text_query, until_date))\n",
    "\n",
    "# Reads the json generated from the CLI command above and creates a pandas dataframe\n",
    "tweets_df2 = pd.read_json('text-query-tweets.json', lines=True)\n",
    "\n",
    "# Displays first 5 entries from dataframe\n",
    "# tweets_df2.head()\n",
    "\n",
    "# Export dataframe into a CSV\n",
    "tweets_df2.to_csv('text-query-tweets.csv', sep=',', index=False)"
   ]
  },
  {
   "cell_type": "code",
   "execution_count": null,
   "id": "7ed20ccc-1728-4bc2-b7bf-6b5374707e09",
   "metadata": {},
   "outputs": [],
   "source": []
  }
 ],
 "metadata": {
  "kernelspec": {
   "display_name": "Python 3 (ipykernel)",
   "language": "python",
   "name": "python3"
  },
  "language_info": {
   "codemirror_mode": {
    "name": "ipython",
    "version": 3
   },
   "file_extension": ".py",
   "mimetype": "text/x-python",
   "name": "python",
   "nbconvert_exporter": "python",
   "pygments_lexer": "ipython3",
   "version": "3.9.7"
  }
 },
 "nbformat": 4,
 "nbformat_minor": 5
}
