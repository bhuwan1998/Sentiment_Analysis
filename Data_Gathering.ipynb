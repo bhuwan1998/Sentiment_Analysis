{
 "cells": [
  {
   "cell_type": "markdown",
   "id": "75cecc83-620c-4241-8454-0f6375b50dbd",
   "metadata": {},
   "source": [
    "# Sentiment Analysis using Tweets (Ukraine and Russia conflict) on Oil Price"
   ]
  },
  {
   "cell_type": "markdown",
   "id": "45c5f0f5-092b-4c32-a912-8039b1f1b87e",
   "metadata": {},
   "source": [
    "#### Twitter API Setup\n",
    "[Setting up of Code and Cleaning up tweets](https://medium.com/swlh/using-twitter-api-for-tweets-sentiment-analysis-590c97ce52d8)"
   ]
  },
  {
   "cell_type": "code",
   "execution_count": 63,
   "id": "dc55b699-21cd-45be-b54f-bc3dcf22bdfd",
   "metadata": {},
   "outputs": [],
   "source": [
    "import matplotlib.pyplot as plt \n",
    "%matplotlib inline \n",
    "import re \n",
    "import pandas as pd \n",
    "import tweepy \n",
    "from tweepy import OAuthHandler \n",
    "from textblob import TextBlob \n",
    "import csv \n",
    "import string \n",
    "import nltk \n",
    "from nltk.corpus import stopwords \n",
    "from nltk.tokenize import word_tokenize\n",
    "from nltk.stem import WordNetLemmatizer \n",
    "from wordcloud import WordCloud,STOPWORDS \n",
    "from nltk.stem.porter import PorterStemmer\n",
    "import requests \n",
    "import json \n"
   ]
  },
  {
   "cell_type": "markdown",
   "id": "eb2601f8-a1dd-41d8-b1e3-985ea5c42d66",
   "metadata": {},
   "source": [
    "#### Establish Connection with the Project Dashboard (Twitter Developer API)"
   ]
  },
  {
   "cell_type": "code",
   "execution_count": 64,
   "id": "d030530e-a9f0-4676-8481-a084246cc2a9",
   "metadata": {},
   "outputs": [
    {
     "name": "stderr",
     "output_type": "stream",
     "text": [
      "[nltk_data] Downloading package stopwords to\n",
      "[nltk_data]     C:\\Users\\bhuwa\\AppData\\Roaming\\nltk_data...\n",
      "[nltk_data]   Package stopwords is already up-to-date!\n"
     ]
    }
   ],
   "source": [
    "nltk.download('stopwords')\n",
    "n_words = set(stopwords.words('english')) # stop words list \n",
    "porter = PorterStemmer()"
   ]
  },
  {
   "cell_type": "markdown",
   "id": "ecfb3999-cd4a-4ec0-bf66-42ad805ec00d",
   "metadata": {
    "tags": []
   },
   "source": [
    "## References \n",
    "\n",
    "[Twitter Client Documentation V2 Endpoints (Tweepy Library)](https://docs.tweepy.org/en/stable/client.html)"
   ]
  },
  {
   "cell_type": "markdown",
   "id": "32af1ae0-dda1-4893-9cff-52e582e9e761",
   "metadata": {},
   "source": [
    "### Set Up"
   ]
  },
  {
   "cell_type": "code",
   "execution_count": 80,
   "id": "1d56253f-a1bf-4d9e-a16b-863e15c2b5f5",
   "metadata": {},
   "outputs": [
    {
     "data": {
      "text/html": [
       "<div>\n",
       "<style scoped>\n",
       "    .dataframe tbody tr th:only-of-type {\n",
       "        vertical-align: middle;\n",
       "    }\n",
       "\n",
       "    .dataframe tbody tr th {\n",
       "        vertical-align: top;\n",
       "    }\n",
       "\n",
       "    .dataframe thead th {\n",
       "        text-align: right;\n",
       "    }\n",
       "</style>\n",
       "<table border=\"1\" class=\"dataframe\">\n",
       "  <thead>\n",
       "    <tr style=\"text-align: right;\">\n",
       "      <th></th>\n",
       "      <th>text</th>\n",
       "      <th>created_at</th>\n",
       "      <th>author_id</th>\n",
       "      <th>id</th>\n",
       "      <th>withheld.copyright</th>\n",
       "      <th>withheld.country_codes</th>\n",
       "    </tr>\n",
       "  </thead>\n",
       "  <tbody>\n",
       "    <tr>\n",
       "      <th>0</th>\n",
       "      <td>RT @TheAfricaReport: “With the world more depe...</td>\n",
       "      <td>2022-04-09T03:15:26.000Z</td>\n",
       "      <td>37896363</td>\n",
       "      <td>1512630238727094274</td>\n",
       "      <td>NaN</td>\n",
       "      <td>NaN</td>\n",
       "    </tr>\n",
       "    <tr>\n",
       "      <th>1</th>\n",
       "      <td>GERMAN ECONOMY MINISTER HABECK SAYS 50% OF OUR...</td>\n",
       "      <td>2022-04-09T03:15:19.000Z</td>\n",
       "      <td>1225793633342935043</td>\n",
       "      <td>1512630206112038913</td>\n",
       "      <td>NaN</td>\n",
       "      <td>NaN</td>\n",
       "    </tr>\n",
       "    <tr>\n",
       "      <th>2</th>\n",
       "      <td>RT @KS_1013: 「since the invasion, the bloc’s 2...</td>\n",
       "      <td>2022-04-09T03:15:16.000Z</td>\n",
       "      <td>25622356</td>\n",
       "      <td>1512630197228433411</td>\n",
       "      <td>NaN</td>\n",
       "      <td>NaN</td>\n",
       "    </tr>\n",
       "    <tr>\n",
       "      <th>3</th>\n",
       "      <td>@Mawunya_ @KyivIndependent Sinking of a ship i...</td>\n",
       "      <td>2022-04-09T03:15:02.000Z</td>\n",
       "      <td>1425043804625661952</td>\n",
       "      <td>1512630137615163393</td>\n",
       "      <td>NaN</td>\n",
       "      <td>NaN</td>\n",
       "    </tr>\n",
       "    <tr>\n",
       "      <th>4</th>\n",
       "      <td>RT @TheAfricaReport: “With the world more depe...</td>\n",
       "      <td>2022-04-09T03:15:01.000Z</td>\n",
       "      <td>18017198</td>\n",
       "      <td>1512630131969384455</td>\n",
       "      <td>NaN</td>\n",
       "      <td>NaN</td>\n",
       "    </tr>\n",
       "    <tr>\n",
       "      <th>...</th>\n",
       "      <td>...</td>\n",
       "      <td>...</td>\n",
       "      <td>...</td>\n",
       "      <td>...</td>\n",
       "      <td>...</td>\n",
       "      <td>...</td>\n",
       "    </tr>\n",
       "    <tr>\n",
       "      <th>95</th>\n",
       "      <td>@Reuters Why do you act like this is a garden ...</td>\n",
       "      <td>2022-04-09T03:00:46.000Z</td>\n",
       "      <td>824020728613720064</td>\n",
       "      <td>1512626547626106885</td>\n",
       "      <td>NaN</td>\n",
       "      <td>NaN</td>\n",
       "    </tr>\n",
       "    <tr>\n",
       "      <th>96</th>\n",
       "      <td>RT @JoostBroekers: Is the US Govt slapping Eur...</td>\n",
       "      <td>2022-04-09T03:00:45.000Z</td>\n",
       "      <td>1502468948666822657</td>\n",
       "      <td>1512626542676951044</td>\n",
       "      <td>NaN</td>\n",
       "      <td>NaN</td>\n",
       "    </tr>\n",
       "    <tr>\n",
       "      <th>97</th>\n",
       "      <td>RT @edwardfishman: This week, @POTUS imposed t...</td>\n",
       "      <td>2022-04-09T03:00:45.000Z</td>\n",
       "      <td>78527851</td>\n",
       "      <td>1512626540684619777</td>\n",
       "      <td>NaN</td>\n",
       "      <td>NaN</td>\n",
       "    </tr>\n",
       "    <tr>\n",
       "      <th>98</th>\n",
       "      <td>@RepMTG Is it true you just voted to keep impo...</td>\n",
       "      <td>2022-04-09T03:00:36.000Z</td>\n",
       "      <td>1261781928702808067</td>\n",
       "      <td>1512626505414844428</td>\n",
       "      <td>NaN</td>\n",
       "      <td>NaN</td>\n",
       "    </tr>\n",
       "    <tr>\n",
       "      <th>99</th>\n",
       "      <td>London is just as guilty as Germany and Italy ...</td>\n",
       "      <td>2022-04-09T03:00:28.000Z</td>\n",
       "      <td>1193008291586232320</td>\n",
       "      <td>1512626469176066049</td>\n",
       "      <td>NaN</td>\n",
       "      <td>NaN</td>\n",
       "    </tr>\n",
       "  </tbody>\n",
       "</table>\n",
       "<p>100 rows × 6 columns</p>\n",
       "</div>"
      ],
      "text/plain": [
       "                                                 text  \\\n",
       "0   RT @TheAfricaReport: “With the world more depe...   \n",
       "1   GERMAN ECONOMY MINISTER HABECK SAYS 50% OF OUR...   \n",
       "2   RT @KS_1013: 「since the invasion, the bloc’s 2...   \n",
       "3   @Mawunya_ @KyivIndependent Sinking of a ship i...   \n",
       "4   RT @TheAfricaReport: “With the world more depe...   \n",
       "..                                                ...   \n",
       "95  @Reuters Why do you act like this is a garden ...   \n",
       "96  RT @JoostBroekers: Is the US Govt slapping Eur...   \n",
       "97  RT @edwardfishman: This week, @POTUS imposed t...   \n",
       "98  @RepMTG Is it true you just voted to keep impo...   \n",
       "99  London is just as guilty as Germany and Italy ...   \n",
       "\n",
       "                  created_at            author_id                   id  \\\n",
       "0   2022-04-09T03:15:26.000Z             37896363  1512630238727094274   \n",
       "1   2022-04-09T03:15:19.000Z  1225793633342935043  1512630206112038913   \n",
       "2   2022-04-09T03:15:16.000Z             25622356  1512630197228433411   \n",
       "3   2022-04-09T03:15:02.000Z  1425043804625661952  1512630137615163393   \n",
       "4   2022-04-09T03:15:01.000Z             18017198  1512630131969384455   \n",
       "..                       ...                  ...                  ...   \n",
       "95  2022-04-09T03:00:46.000Z   824020728613720064  1512626547626106885   \n",
       "96  2022-04-09T03:00:45.000Z  1502468948666822657  1512626542676951044   \n",
       "97  2022-04-09T03:00:45.000Z             78527851  1512626540684619777   \n",
       "98  2022-04-09T03:00:36.000Z  1261781928702808067  1512626505414844428   \n",
       "99  2022-04-09T03:00:28.000Z  1193008291586232320  1512626469176066049   \n",
       "\n",
       "   withheld.copyright withheld.country_codes  \n",
       "0                 NaN                    NaN  \n",
       "1                 NaN                    NaN  \n",
       "2                 NaN                    NaN  \n",
       "3                 NaN                    NaN  \n",
       "4                 NaN                    NaN  \n",
       "..                ...                    ...  \n",
       "95                NaN                    NaN  \n",
       "96                NaN                    NaN  \n",
       "97                NaN                    NaN  \n",
       "98                NaN                    NaN  \n",
       "99                NaN                    NaN  \n",
       "\n",
       "[100 rows x 6 columns]"
      ]
     },
     "execution_count": 80,
     "metadata": {},
     "output_type": "execute_result"
    }
   ],
   "source": [
    "# Connect to the API using the Keys \n",
    "# use the following function: \n",
    "# client = connect_client(<inser params>) \n",
    "# client.<insert end points used by Twitter V2>\n",
    "def connect_client(consumer_key, consumer_secret, brearer_token, access_token, access_token_secret):\n",
    "    client = tweepy.Client( bearer_token=bearer_token, \n",
    "                        consumer_key=consumer_key, \n",
    "                        consumer_secret=consumer_secret, \n",
    "                        access_token=access_token, \n",
    "                        access_token_secret=access_token_secret, \n",
    "                        return_type = requests.Response,\n",
    "                        wait_on_rate_limit=True)\n",
    "    return client\n",
    "    \n",
    "    \n",
    "# Obtain recent most tweets \n",
    "# Params: query and client \n",
    "# Output: Dataframe of tweets \n",
    "def get_recent_tweets(query, client):\n",
    "    tweets = client.search_recent_tweets(query = query, tweet_fields = ['author_id', 'created_at'], max_results=100) \n",
    "    \n",
    "    tweets_dict = tweets.json()\n",
    "    \n",
    "    return pd.json_normalize(tweets_dict['data'])\n",
    "    \n"
   ]
  },
  {
   "cell_type": "code",
   "execution_count": 81,
   "id": "043b4060-90cb-4eac-a71d-adfad3e053d3",
   "metadata": {},
   "outputs": [
    {
     "data": {
      "text/html": [
       "<div>\n",
       "<style scoped>\n",
       "    .dataframe tbody tr th:only-of-type {\n",
       "        vertical-align: middle;\n",
       "    }\n",
       "\n",
       "    .dataframe tbody tr th {\n",
       "        vertical-align: top;\n",
       "    }\n",
       "\n",
       "    .dataframe thead th {\n",
       "        text-align: right;\n",
       "    }\n",
       "</style>\n",
       "<table border=\"1\" class=\"dataframe\">\n",
       "  <thead>\n",
       "    <tr style=\"text-align: right;\">\n",
       "      <th></th>\n",
       "      <th>author_id</th>\n",
       "      <th>text</th>\n",
       "      <th>created_at</th>\n",
       "      <th>id</th>\n",
       "      <th>withheld.copyright</th>\n",
       "      <th>withheld.country_codes</th>\n",
       "    </tr>\n",
       "  </thead>\n",
       "  <tbody>\n",
       "    <tr>\n",
       "      <th>0</th>\n",
       "      <td>441389311</td>\n",
       "      <td>The increased cost of everyday goods and servi...</td>\n",
       "      <td>2022-04-09T03:15:39.000Z</td>\n",
       "      <td>1512630289633320960</td>\n",
       "      <td>NaN</td>\n",
       "      <td>NaN</td>\n",
       "    </tr>\n",
       "    <tr>\n",
       "      <th>1</th>\n",
       "      <td>706357166</td>\n",
       "      <td>RT @ChrisJZullo: Russia, COVID are to blame fo...</td>\n",
       "      <td>2022-04-09T03:15:36.000Z</td>\n",
       "      <td>1512630279709495301</td>\n",
       "      <td>NaN</td>\n",
       "      <td>NaN</td>\n",
       "    </tr>\n",
       "    <tr>\n",
       "      <th>2</th>\n",
       "      <td>123041474</td>\n",
       "      <td>What Congress’s sanctions on Russia would do h...</td>\n",
       "      <td>2022-04-09T03:15:32.000Z</td>\n",
       "      <td>1512630262907092992</td>\n",
       "      <td>NaN</td>\n",
       "      <td>NaN</td>\n",
       "    </tr>\n",
       "    <tr>\n",
       "      <th>3</th>\n",
       "      <td>37896363</td>\n",
       "      <td>RT @TheAfricaReport: “With the world more depe...</td>\n",
       "      <td>2022-04-09T03:15:26.000Z</td>\n",
       "      <td>1512630238727094274</td>\n",
       "      <td>NaN</td>\n",
       "      <td>NaN</td>\n",
       "    </tr>\n",
       "    <tr>\n",
       "      <th>4</th>\n",
       "      <td>1225793633342935043</td>\n",
       "      <td>GERMAN ECONOMY MINISTER HABECK SAYS 50% OF OUR...</td>\n",
       "      <td>2022-04-09T03:15:19.000Z</td>\n",
       "      <td>1512630206112038913</td>\n",
       "      <td>NaN</td>\n",
       "      <td>NaN</td>\n",
       "    </tr>\n",
       "    <tr>\n",
       "      <th>...</th>\n",
       "      <td>...</td>\n",
       "      <td>...</td>\n",
       "      <td>...</td>\n",
       "      <td>...</td>\n",
       "      <td>...</td>\n",
       "      <td>...</td>\n",
       "    </tr>\n",
       "    <tr>\n",
       "      <th>95</th>\n",
       "      <td>1484373406749319168</td>\n",
       "      <td>The issue between Russia and Ukraine prompted ...</td>\n",
       "      <td>2022-04-09T03:01:03.000Z</td>\n",
       "      <td>1512626618753335301</td>\n",
       "      <td>NaN</td>\n",
       "      <td>NaN</td>\n",
       "    </tr>\n",
       "    <tr>\n",
       "      <th>96</th>\n",
       "      <td>137613839</td>\n",
       "      <td>RT @nishkumar1977: India's godowns are brimmin...</td>\n",
       "      <td>2022-04-09T03:00:57.000Z</td>\n",
       "      <td>1512626590634586112</td>\n",
       "      <td>NaN</td>\n",
       "      <td>NaN</td>\n",
       "    </tr>\n",
       "    <tr>\n",
       "      <th>97</th>\n",
       "      <td>2949867604</td>\n",
       "      <td>@SaklesSaso Senior U.S. officials flew to Vene...</td>\n",
       "      <td>2022-04-09T03:00:54.000Z</td>\n",
       "      <td>1512626579633053701</td>\n",
       "      <td>NaN</td>\n",
       "      <td>NaN</td>\n",
       "    </tr>\n",
       "    <tr>\n",
       "      <th>98</th>\n",
       "      <td>824020728613720064</td>\n",
       "      <td>@Reuters Why do you act like this is a garden ...</td>\n",
       "      <td>2022-04-09T03:00:46.000Z</td>\n",
       "      <td>1512626547626106885</td>\n",
       "      <td>NaN</td>\n",
       "      <td>NaN</td>\n",
       "    </tr>\n",
       "    <tr>\n",
       "      <th>99</th>\n",
       "      <td>1502468948666822657</td>\n",
       "      <td>RT @JoostBroekers: Is the US Govt slapping Eur...</td>\n",
       "      <td>2022-04-09T03:00:45.000Z</td>\n",
       "      <td>1512626542676951044</td>\n",
       "      <td>NaN</td>\n",
       "      <td>NaN</td>\n",
       "    </tr>\n",
       "  </tbody>\n",
       "</table>\n",
       "<p>100 rows × 6 columns</p>\n",
       "</div>"
      ],
      "text/plain": [
       "              author_id                                               text  \\\n",
       "0             441389311  The increased cost of everyday goods and servi...   \n",
       "1             706357166  RT @ChrisJZullo: Russia, COVID are to blame fo...   \n",
       "2             123041474  What Congress’s sanctions on Russia would do h...   \n",
       "3              37896363  RT @TheAfricaReport: “With the world more depe...   \n",
       "4   1225793633342935043  GERMAN ECONOMY MINISTER HABECK SAYS 50% OF OUR...   \n",
       "..                  ...                                                ...   \n",
       "95  1484373406749319168  The issue between Russia and Ukraine prompted ...   \n",
       "96            137613839  RT @nishkumar1977: India's godowns are brimmin...   \n",
       "97           2949867604  @SaklesSaso Senior U.S. officials flew to Vene...   \n",
       "98   824020728613720064  @Reuters Why do you act like this is a garden ...   \n",
       "99  1502468948666822657  RT @JoostBroekers: Is the US Govt slapping Eur...   \n",
       "\n",
       "                  created_at                   id withheld.copyright  \\\n",
       "0   2022-04-09T03:15:39.000Z  1512630289633320960                NaN   \n",
       "1   2022-04-09T03:15:36.000Z  1512630279709495301                NaN   \n",
       "2   2022-04-09T03:15:32.000Z  1512630262907092992                NaN   \n",
       "3   2022-04-09T03:15:26.000Z  1512630238727094274                NaN   \n",
       "4   2022-04-09T03:15:19.000Z  1512630206112038913                NaN   \n",
       "..                       ...                  ...                ...   \n",
       "95  2022-04-09T03:01:03.000Z  1512626618753335301                NaN   \n",
       "96  2022-04-09T03:00:57.000Z  1512626590634586112                NaN   \n",
       "97  2022-04-09T03:00:54.000Z  1512626579633053701                NaN   \n",
       "98  2022-04-09T03:00:46.000Z  1512626547626106885                NaN   \n",
       "99  2022-04-09T03:00:45.000Z  1512626542676951044                NaN   \n",
       "\n",
       "   withheld.country_codes  \n",
       "0                     NaN  \n",
       "1                     NaN  \n",
       "2                     NaN  \n",
       "3                     NaN  \n",
       "4                     NaN  \n",
       "..                    ...  \n",
       "95                    NaN  \n",
       "96                    NaN  \n",
       "97                    NaN  \n",
       "98                    NaN  \n",
       "99                    NaN  \n",
       "\n",
       "[100 rows x 6 columns]"
      ]
     },
     "execution_count": 81,
     "metadata": {},
     "output_type": "execute_result"
    }
   ],
   "source": [
    "\n",
    "client = connect_client(consumer_key, consumer_secret, bearer_token, access_token, access_token_secret)\n",
    "\n",
    "query = \"Russia Oil\"\n",
    "tweets = get_recent_tweets(query, client) "
   ]
  },
  {
   "cell_type": "code",
   "execution_count": 84,
   "id": "4ba4a6ad-7659-46c8-90d4-b1003bf85c38",
   "metadata": {},
   "outputs": [],
   "source": [
    "tweets['created_at'] = pd.to_datetime(tweets['created_at'])"
   ]
  },
  {
   "cell_type": "markdown",
   "id": "03a551d9-501c-409e-a290-fa6788c46898",
   "metadata": {},
   "source": [
    "#### Preprocessing of Text"
   ]
  },
  {
   "cell_type": "code",
   "execution_count": 85,
   "id": "599dc2e4-c1d0-4682-a6d0-ad37fa734de3",
   "metadata": {},
   "outputs": [
    {
     "data": {
      "text/plain": [
       "0    2022-04-09 03:15:39+00:00\n",
       "1    2022-04-09 03:15:36+00:00\n",
       "2    2022-04-09 03:15:32+00:00\n",
       "3    2022-04-09 03:15:26+00:00\n",
       "4    2022-04-09 03:15:19+00:00\n",
       "                ...           \n",
       "95   2022-04-09 03:01:03+00:00\n",
       "96   2022-04-09 03:00:57+00:00\n",
       "97   2022-04-09 03:00:54+00:00\n",
       "98   2022-04-09 03:00:46+00:00\n",
       "99   2022-04-09 03:00:45+00:00\n",
       "Name: created_at, Length: 100, dtype: datetime64[ns, UTC]"
      ]
     },
     "execution_count": 85,
     "metadata": {},
     "output_type": "execute_result"
    }
   ],
   "source": [
    "tweets['created_at']"
   ]
  },
  {
   "cell_type": "code",
   "execution_count": 88,
   "id": "e27beacd-b29f-410b-a421-1a9c1adec035",
   "metadata": {},
   "outputs": [
    {
     "name": "stderr",
     "output_type": "stream",
     "text": [
      "[nltk_data] Downloading package punkt to\n",
      "[nltk_data]     C:\\Users\\bhuwa\\AppData\\Roaming\\nltk_data...\n",
      "[nltk_data]   Unzipping tokenizers\\punkt.zip.\n"
     ]
    }
   ],
   "source": [
    "def clean_up_tweet(tweet):\n",
    "    # cleaning the tweet from @ tags and links \n",
    "    tweet = ' '.join(re.sub(\"(@[A-Za-z0-9]+)|([^0-9A-Za-z \\t]) | (\\w+:\\/\\/\\S+)\", \"\", tweet).split())\n",
    "    # converting all letters to lower case and replacing '-' with spaces\n",
    "    tweet = tweet.lower().replace('-', ' ')\n",
    "    table = str.maketrans('', '', string.punctuation+string.digits)\n",
    "    tweet = tweet.translate(table) \n",
    "    # tokenising words\n",
    "    tokens = word_tokenize(tweet) \n",
    "    stemmed = [porter.stem(word) for word in tokens]\n",
    "    words = [w for w in stemmed if not w in n_words]\n",
    "    \n",
    "    tweet = ' '.join(words)\n",
    "    return tweet\n",
    "\n",
    "\n",
    "import nltk\n",
    "nltk.download('punkt')\n",
    "\n",
    "tweets['text'] = tweets['text'].apply(lambda x: clean_up_tweet(x))"
   ]
  },
  {
   "cell_type": "code",
   "execution_count": 113,
   "id": "19f8a4d1-1585-4f16-a5c1-a2f080f505b5",
   "metadata": {},
   "outputs": [],
   "source": [
    "tweets_df = (tweets['text'])"
   ]
  },
  {
   "cell_type": "markdown",
   "id": "0d526b76-b594-48d3-83ed-4dd8bc23f098",
   "metadata": {},
   "source": [
    "#### Analysing Sentiment "
   ]
  },
  {
   "cell_type": "markdown",
   "id": "b8aa2ad7-1aa4-4d5a-aa68-89eb960cbd9d",
   "metadata": {},
   "source": [
    "analysis = TextBlob(tweet) \n",
    "senti = analysis.sentiment.polarity\n",
    "\n",
    "if senti < 0: \n",
    "    emotion = \"NEG\"\n",
    "elif senti > 0: \n",
    "    emotion = \"POS\" \n",
    "else: \n",
    "    emotion = \"NEU\""
   ]
  },
  {
   "cell_type": "code",
   "execution_count": 119,
   "id": "d9407dcd-cd5f-4951-939f-2effd2faef66",
   "metadata": {},
   "outputs": [],
   "source": [
    "def get_tweets(tweets_df): \n",
    "    tweets = [] \n",
    "    try: \n",
    "        for tweet in tweets_df.iteritems():\n",
    "            analysis = TextBlob(str(tweet))\n",
    "            senti= analysis.sentiment.polarity\n",
    "            # labeling the sentiment\n",
    "            if senti < 0 :\n",
    "                emotion = \"NEG\"\n",
    "            elif senti > 0 :\n",
    "                emotion= \"POS\"\n",
    "            else:\n",
    "                emotion= \"NEU\"\n",
    "            # appending all data\n",
    "            tweets.append((tweet, senti, emotion))\n",
    "        return tweets\n",
    "    except tweepy.TweepyException as e: \n",
    "        print(\"Error : \" + str(e))"
   ]
  },
  {
   "cell_type": "code",
   "execution_count": 121,
   "id": "f32afd7c-5c01-49c3-a497-361d9a68ba7b",
   "metadata": {},
   "outputs": [],
   "source": [
    "# Get sentiment \n",
    "sentiment_table = get_tweets(tweets_df)"
   ]
  },
  {
   "cell_type": "code",
   "execution_count": 124,
   "id": "84ad7b4d-52be-4d56-836e-45a6151bab73",
   "metadata": {},
   "outputs": [],
   "source": [
    "sentiment_df = pd.DataFrame(sentiment_table, columns=['tweet', 'senti', 'emotion'])"
   ]
  },
  {
   "cell_type": "code",
   "execution_count": 127,
   "id": "ee633e9b-dda3-4335-9325-be593aaf6052",
   "metadata": {},
   "outputs": [
    {
     "data": {
      "text/plain": [
       "NEU    75\n",
       "POS    17\n",
       "NEG     8\n",
       "Name: emotion, dtype: int64"
      ]
     },
     "execution_count": 127,
     "metadata": {},
     "output_type": "execute_result"
    }
   ],
   "source": [
    "sentiment_df['emotion'].value_counts()"
   ]
  },
  {
   "cell_type": "code",
   "execution_count": 135,
   "id": "b0b2c9e9-b7fa-4a5a-989d-f35c5aa31666",
   "metadata": {},
   "outputs": [],
   "source": [
    "file_path = '09_04_2022_Ukraine Russia Oil.json'\n",
    "with open(file_path, encoding='utf8') as f:\n",
    "    data = json.loads(f.read())\n",
    "\n",
    "ukraine_russia_oil = pd.json_normalize(data['data'])"
   ]
  },
  {
   "cell_type": "code",
   "execution_count": 139,
   "id": "4ad38189-f6cc-4de5-9186-a8d116aed523",
   "metadata": {},
   "outputs": [],
   "source": [
    "ukraine_russia_oil_sentiment = get_tweets(ukraine_russia_oil['text'])"
   ]
  },
  {
   "cell_type": "code",
   "execution_count": 142,
   "id": "a56ca989-0dcc-46a5-8de3-a362b5893066",
   "metadata": {},
   "outputs": [],
   "source": [
    "ukraine_russia_oil_sentiment_table = pd.DataFrame(ukraine_russia_oil_sentiment, columns=['tweet', 'senti', 'emotion'])"
   ]
  },
  {
   "cell_type": "code",
   "execution_count": 148,
   "id": "efdb56f5-2743-40e4-8f56-662ba8e89d7d",
   "metadata": {},
   "outputs": [
    {
     "data": {
      "text/plain": [
       "NEU    81\n",
       "POS    13\n",
       "NEG     6\n",
       "Name: emotion, dtype: int64"
      ]
     },
     "execution_count": 148,
     "metadata": {},
     "output_type": "execute_result"
    }
   ],
   "source": [
    "ukraine_russia_oil_sentiment_table['emotion'].value_counts()"
   ]
  },
  {
   "cell_type": "code",
   "execution_count": 154,
   "id": "12696d4f-5537-4f50-9317-47c6ed751d29",
   "metadata": {},
   "outputs": [],
   "source": [
    "bar_plot = ukraine_russia_oil_sentiment_table['emotion'].value_counts()"
   ]
  },
  {
   "cell_type": "code",
   "execution_count": 159,
   "id": "dd3566b9-de2d-4178-8ab6-95ef67629d7f",
   "metadata": {},
   "outputs": [
    {
     "data": {
      "text/plain": [
       "<BarContainer object of 3 artists>"
      ]
     },
     "execution_count": 159,
     "metadata": {},
     "output_type": "execute_result"
    },
    {
     "data": {
      "image/png": "[encoded data removed]",
      "text/plain": [
       "<Figure size 648x648 with 1 Axes>"
      ]
     },
     "metadata": {
      "needs_background": "light"
     },
     "output_type": "display_data"
    }
   ],
   "source": [
    "plot_values = {'Neutral': 81, 'Positive': 13, 'Negative' : 6}\n",
    "values = list(plot_values.values())\n",
    "names = list(plot_values.keys())\n",
    "\n",
    "fig, axs = plt.subplots(figsize=(9, 9), sharey=True)\n",
    "axs.bar(names, values)"
   ]
  },
  {
   "cell_type": "code",
   "execution_count": null,
   "id": "fd03f42e-1097-45ff-9bf6-d8f75bfef495",
   "metadata": {},
   "outputs": [],
   "source": []
  }
 ],
 "metadata": {
  "kernelspec": {
   "display_name": "Python 3 (ipykernel)",
   "language": "python",
   "name": "python3"
  },
  "language_info": {
   "codemirror_mode": {
    "name": "ipython",
    "version": 3
   },
   "file_extension": ".py",
   "mimetype": "text/x-python",
   "name": "python",
   "nbconvert_exporter": "python",
   "pygments_lexer": "ipython3",
   "version": "3.9.7"
  }
 },
 "nbformat": 4,
 "nbformat_minor": 5
}
