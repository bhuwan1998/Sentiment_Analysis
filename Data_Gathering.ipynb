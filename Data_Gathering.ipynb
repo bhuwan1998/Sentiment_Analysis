{
 "cells": [
  {
   "cell_type": "markdown",
   "id": "75cecc83-620c-4241-8454-0f6375b50dbd",
   "metadata": {},
   "source": [
    "# Sentiment Analysis using Tweets (Ukraine and Russia conflict) on Oil Price"
   ]
  },
  {
   "cell_type": "markdown",
   "id": "45c5f0f5-092b-4c32-a912-8039b1f1b87e",
   "metadata": {},
   "source": [
    "#### Twitter API Setup\n",
    "[Setting up of Code and Cleaning up tweets](https://medium.com/swlh/using-twitter-api-for-tweets-sentiment-analysis-590c97ce52d8)"
   ]
  },
  {
   "cell_type": "code",
   "execution_count": 5,
   "id": "dc55b699-21cd-45be-b54f-bc3dcf22bdfd",
   "metadata": {},
   "outputs": [],
   "source": [
    "import matplotlib.pyplot as plt \n",
    "%matplotlib inline \n",
    "import re \n",
    "import pandas as pd \n",
    "import tweepy \n",
    "from tweepy import OAuthHandler \n",
    "from textblob import TextBlob \n",
    "import csv \n",
    "import string \n",
    "import nltk \n",
    "from nltk.corpus import stopwords \n",
    "from nltk.tokenize import word_tokenize\n",
    "from nltk.stem import WordNetLemmatizer \n",
    "from wordcloud import WordCloud,STOPWORDS \n",
    "from nltk.stem.porter import PorterStemmer"
   ]
  },
  {
   "cell_type": "markdown",
   "id": "eb2601f8-a1dd-41d8-b1e3-985ea5c42d66",
   "metadata": {},
   "source": [
    "#### Establish Connection with the Project Dashboard (Twitter Developer API)"
   ]
  },
  {
   "cell_type": "code",
   "execution_count": 6,
   "id": "d030530e-a9f0-4676-8481-a084246cc2a9",
   "metadata": {},
   "outputs": [
    {
     "name": "stderr",
     "output_type": "stream",
     "text": [
      "[nltk_data] Downloading package stopwords to\n",
      "[nltk_data]     C:\\Users\\bhuwa\\AppData\\Roaming\\nltk_data...\n",
      "[nltk_data]   Package stopwords is already up-to-date!\n"
     ]
    }
   ],
   "source": [
    "nltk.download('stopwords')\n",
    "n_words = set(stopwords.words('english')) # stop words list \n",
    "porter = PorterStemmer()"
   ]
  },
  {
   "cell_type": "code",
   "execution_count": 12,
   "id": "4b846f45-4300-4a49-88d0-966f2ce47bce",
   "metadata": {},
   "outputs": [
    {
     "name": "stdout",
     "output_type": "stream",
     "text": [
      "<tweepy.api.API object at 0x000001A6F87CC370>\n"
     ]
    }
   ],
   "source": [
    "def TwitterClient(): \n",
    "    # Keys and tokens from Twitter Dev Console \n",
    "    # Keys will not be shared on git\n",
    "    \n",
    "    # attempt authentication \n",
    "    try:\n",
    "        # create access token and secret \n",
    "        auth = OAuthHandler(consumer_key, consumer_secret) \n",
    "        # set access token and secret \n",
    "        auth.set_access_token(access_token, access_token_secret)\n",
    "        api = tweepy.API(auth) \n",
    "    except: \n",
    "        print(\"Error: authentication failed\")\n",
    "        \n",
    "    return api \n",
    "    \n",
    "print(TwitterClient())\n",
    "        "
   ]
  },
  {
   "cell_type": "markdown",
   "id": "03a551d9-501c-409e-a290-fa6788c46898",
   "metadata": {},
   "source": [
    "#### Preprocessing of Text"
   ]
  },
  {
   "cell_type": "code",
   "execution_count": 14,
   "id": "e27beacd-b29f-410b-a421-1a9c1adec035",
   "metadata": {},
   "outputs": [],
   "source": [
    "def clean_up_tweet(tweet):\n",
    "    # cleaning the tweet from @ tags and links \n",
    "    tweet = ' '.join(re.sub(\"(@[A-Za-z0-9]+)|([^0-9A-Za-z \\t]) | (\\w+:\\/\\/\\S+)\", \"\", tweet).split())\n",
    "    # converting all letters to lower case and replacing '-' with spaces\n",
    "    tweet = tweet.lower().replace('-', ' ')\n",
    "    table = str.maketrans('', '', string.punctuation+string.digits)\n",
    "    tweet = tweet.translate(table) \n",
    "    # tokenising words\n",
    "    tokens = word_tokenize(tweet) \n",
    "    stemmed = [porter.stem(word) for word in tokens]\n",
    "    words = [w for w in stemmed if not w in n_words]\n",
    "    \n",
    "    tweet = ' '.join(words)\n",
    "    return tweet"
   ]
  },
  {
   "cell_type": "markdown",
   "id": "0d526b76-b594-48d3-83ed-4dd8bc23f098",
   "metadata": {},
   "source": [
    "#### Analysing Sentiment "
   ]
  },
  {
   "cell_type": "markdown",
   "id": "b8aa2ad7-1aa4-4d5a-aa68-89eb960cbd9d",
   "metadata": {},
   "source": [
    "analysis = TextBlob(tweet) \n",
    "senti = analysis.sentiment.polarity\n",
    "\n",
    "if senti < 0: \n",
    "    emotion = \"NEG\"\n",
    "elif senti > 0: \n",
    "    emotion = \"POS\" \n",
    "else: \n",
    "    emotion = \"NEU\""
   ]
  },
  {
   "cell_type": "code",
   "execution_count": 21,
   "id": "d9407dcd-cd5f-4951-939f-2effd2faef66",
   "metadata": {},
   "outputs": [],
   "source": [
    "def get_tweets(query, count = 10): \n",
    "    tweets = [] \n",
    "    try: \n",
    "        fetched_tweets = api.search_tweets(q = query, count = count) \n",
    "        for tweet in fetched_tweets:\n",
    "            tweet= clean(tweet.text)\n",
    "            analysis = TextBlob(tweet)\n",
    "            senti= analysis.sentiment.polarity\n",
    "            # labeling the sentiment\n",
    "            if senti<0 :\n",
    "                emotion = \"NEG\"\n",
    "            elif senti>0:\n",
    "                emotion= \"POS\"\n",
    "            else:\n",
    "                emotion= \"NEU\"\n",
    "            # appending all data\n",
    "            tweets.append((tweet, senti, emotion))\n",
    "        return tweets\n",
    "    except tweepy.TweepyException as e: \n",
    "        print(\"Error : \" + str(e))"
   ]
  },
  {
   "cell_type": "code",
   "execution_count": 22,
   "id": "613e44f9-54bd-4bfb-b5a8-8695dc107822",
   "metadata": {},
   "outputs": [
    {
     "name": "stdout",
     "output_type": "stream",
     "text": [
      "Error : 403 Forbidden\n",
      "453 - You currently have Essential access which includes access to Twitter API v2 endpoints only. If you need access to this endpoint, you’ll need to apply for Elevated access via the Developer Portal. You can learn more here: https://developer.twitter.com/en/docs/twitter-api/getting-started/about-twitter-api#v2-access-leve\n"
     ]
    }
   ],
   "source": [
    "api = TwitterClient() \n",
    "tweets = get_tweets(query = \"Russia Oil\", count = 1000)\n",
    "\n",
    "df = pd.DataFrame(tweets, columns=['tweets', 'senti', 'emotion'])\n",
    "df = df.drop_duplicates()"
   ]
  }
 ],
 "metadata": {
  "kernelspec": {
   "display_name": "Python 3 (ipykernel)",
   "language": "python",
   "name": "python3"
  },
  "language_info": {
   "codemirror_mode": {
    "name": "ipython",
    "version": 3
   },
   "file_extension": ".py",
   "mimetype": "text/x-python",
   "name": "python",
   "nbconvert_exporter": "python",
   "pygments_lexer": "ipython3",
   "version": "3.9.7"
  }
 },
 "nbformat": 4,
 "nbformat_minor": 5
}
