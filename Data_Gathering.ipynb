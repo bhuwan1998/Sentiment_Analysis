{
 "cells": [
  {
   "cell_type": "markdown",
   "id": "75cecc83-620c-4241-8454-0f6375b50dbd",
   "metadata": {},
   "source": [
    "# Sentiment Analysis using Tweets (Ukraine and Russia conflict) on Oil Prices"
   ]
  },
  {
   "cell_type": "code",
   "execution_count": null,
   "id": "dc55b699-21cd-45be-b54f-bc3dcf22bdfd",
   "metadata": {},
   "outputs": [],
   "source": []
  }
 ],
 "metadata": {
  "kernelspec": {
   "display_name": "Python 3 (ipykernel)",
   "language": "python",
   "name": "python3"
  },
  "language_info": {
   "codemirror_mode": {
    "name": "ipython",
    "version": 3
   },
   "file_extension": ".py",
   "mimetype": "text/x-python",
   "name": "python",
   "nbconvert_exporter": "python",
   "pygments_lexer": "ipython3",
   "version": "3.9.7"
  }
 },
 "nbformat": 4,
 "nbformat_minor": 5
}
