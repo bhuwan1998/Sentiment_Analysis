{
 "cells": [
  {
   "cell_type": "code",
   "execution_count": 2,
   "id": "c392a233-dc32-4a2f-b7d5-14e6f1737ee3",
   "metadata": {},
   "outputs": [],
   "source": [
    "import requests \n",
    "from bs4 import BeautifulSoup"
   ]
  },
  {
   "cell_type": "code",
   "execution_count": 3,
   "id": "e2eac5f9-bdf9-4d36-8d72-cb34cf8f8a6c",
   "metadata": {},
   "outputs": [
    {
     "data": {
      "text/plain": [
       "<!DOCTYPE html>\n",
       "\n",
       "<html lang=\"en-us\"><head>\n",
       "<meta content=\"text/html; charset=utf-8\" http-equiv=\"content-type\"/>\n",
       "<meta charset=\"utf-8\"/>\n",
       "<title>Yahoo</title>\n",
       "<meta content=\"width=device-width,initial-scale=1,minimal-ui\" name=\"viewport\"/>\n",
       "<meta content=\"IE=edge,chrome=1\" http-equiv=\"X-UA-Compatible\"/>\n",
       "<style>\n",
       "  html {\n",
       "      height: 100%;\n",
       "  }\n",
       "  body {\n",
       "      background: #fafafc url(https://s.yimg.com/nn/img/sad-panda-201402200631.png) 50% 50%;\n",
       "      background-size: cover;\n",
       "      height: 100%;\n",
       "      text-align: center;\n",
       "      font: 300 18px \"helvetica neue\", helvetica, verdana, tahoma, arial, sans-serif;\n",
       "  }\n",
       "  table {\n",
       "      height: 100%;\n",
       "      width: 100%;\n",
       "      table-layout: fixed;\n",
       "      border-collapse: collapse;\n",
       "      border-spacing: 0;\n",
       "      border: none;\n",
       "  }\n",
       "  h1 {\n",
       "      font-size: 42px;\n",
       "      font-weight: 400;\n",
       "      color: #400090;\n",
       "  }\n",
       "  p {\n",
       "      color: #1A1A1A;\n",
       "  }\n",
       "  #message-1 {\n",
       "      font-weight: bold;\n",
       "      margin: 0;\n",
       "  }\n",
       "  #message-2 {\n",
       "      display: inline-block;\n",
       "      *display: inline;\n",
       "      zoom: 1;\n",
       "      max-width: 17em;\n",
       "      _width: 17em;\n",
       "  }\n",
       "      </style>\n",
       "<script>\n",
       "    document.write('<img src=\"//geo.yahoo.com/b?s=1197757129&t='+new Date().getTime()+'&src=aws&err_url='+encodeURIComponent(document.URL)+'&err=%<pssc>&test='+encodeURIComponent('%<{Bucket}cqh[:200]>')+'\" width=\"0px\" height=\"0px\"/>');var beacon = new Image();beacon.src=\"//bcn.fp.yahoo.com/p?s=1197757129&t=\"+new Date().getTime()+\"&src=aws&err_url=\"+encodeURIComponent(document.URL)+\"&err=%<pssc>&test=\"+encodeURIComponent('%<{Bucket}cqh[:200]>');\n",
       "  </script>\n",
       "</head>\n",
       "<body>\n",
       "<!-- status code : 404 -->\n",
       "<!-- Not Found on Server -->\n",
       "<table>\n",
       "<tbody><tr>\n",
       "<td>\n",
       "<img alt=\"Yahoo Logo\" src=\"https://s.yimg.com/rz/p/yahoo_frontpage_en-US_s_f_p_205x58_frontpage.png\"/>\n",
       "<h1 style=\"margin-top:20px;\">Will be right back...</h1>\n",
       "<p id=\"message-1\">Thank you for your patience.</p>\n",
       "<p id=\"message-2\">Our engineers are working quickly to resolve the issue.</p>\n",
       "</td>\n",
       "</tr>\n",
       "</tbody></table>\n",
       "</body></html>"
      ]
     },
     "execution_count": 3,
     "metadata": {},
     "output_type": "execute_result"
    }
   ],
   "source": [
    "headers = {'User-Agent':'Mozilla/5.0 (Windows NT 10.0; Win64; x64) AppleWebKit/537.36 (KHTML, like Gecko) Chrome/100.0.4896.127 Safari/537.36'}\n",
    "url = 'https://au.finance.yahoo.com/quote/CL%3DF/history?p=CL%3DF'\n",
    "\n",
    "r = requests.get(url)\n",
    "\n",
    "soup = BeautifulSoup(r.text, 'html.parser')\n",
    "\n",
    "soup"
   ]
  },
  {
   "cell_type": "code",
   "execution_count": null,
   "id": "b39a0f11-e4c5-4ed9-921b-abe952abf5b6",
   "metadata": {},
   "outputs": [],
   "source": []
  }
 ],
 "metadata": {
  "kernelspec": {
   "display_name": "Python 3 (ipykernel)",
   "language": "python",
   "name": "python3"
  },
  "language_info": {
   "codemirror_mode": {
    "name": "ipython",
    "version": 3
   },
   "file_extension": ".py",
   "mimetype": "text/x-python",
   "name": "python",
   "nbconvert_exporter": "python",
   "pygments_lexer": "ipython3",
   "version": "3.9.7"
  }
 },
 "nbformat": 4,
 "nbformat_minor": 5
}
