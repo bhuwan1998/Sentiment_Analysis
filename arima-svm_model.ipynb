{
 "cells": [
  {
   "cell_type": "markdown",
   "id": "0bc61f99-881b-40b3-ab65-a9d861967ce2",
   "metadata": {},
   "source": [
    "# Hybrid ARIMA-SVM Model\n",
    "***"
   ]
  },
  {
   "cell_type": "code",
   "execution_count": 3,
   "id": "5deb7d66-10a9-4d4b-8c8d-6c5ac4be45c6",
   "metadata": {},
   "outputs": [],
   "source": [
    "# Setup\n",
    "import pandas as pd\n",
    "import numpy as np"
   ]
  },
  {
   "cell_type": "markdown",
   "id": "725e9ffa-cdb5-4011-8193-fcc29b0964b1",
   "metadata": {},
   "source": [
    "***"
   ]
  },
  {
   "cell_type": "code",
   "execution_count": 5,
   "id": "42fd1bff-ac0e-4199-bc6a-4f3b670b6696",
   "metadata": {},
   "outputs": [
    {
     "data": {
      "text/html": [
       "<div>\n",
       "<style scoped>\n",
       "    .dataframe tbody tr th:only-of-type {\n",
       "        vertical-align: middle;\n",
       "    }\n",
       "\n",
       "    .dataframe tbody tr th {\n",
       "        vertical-align: top;\n",
       "    }\n",
       "\n",
       "    .dataframe thead th {\n",
       "        text-align: right;\n",
       "    }\n",
       "</style>\n",
       "<table border=\"1\" class=\"dataframe\">\n",
       "  <thead>\n",
       "    <tr style=\"text-align: right;\">\n",
       "      <th></th>\n",
       "      <th>Unnamed: 0</th>\n",
       "      <th>Date</th>\n",
       "      <th>Open</th>\n",
       "      <th>High</th>\n",
       "      <th>Low</th>\n",
       "      <th>Close</th>\n",
       "      <th>Adj Close</th>\n",
       "      <th>Volume</th>\n",
       "    </tr>\n",
       "  </thead>\n",
       "  <tbody>\n",
       "    <tr>\n",
       "      <th>0</th>\n",
       "      <td>0</td>\n",
       "      <td>2021-11-01</td>\n",
       "      <td>83.360001</td>\n",
       "      <td>84.879997</td>\n",
       "      <td>82.739998</td>\n",
       "      <td>84.050003</td>\n",
       "      <td>84.050003</td>\n",
       "      <td>412309</td>\n",
       "    </tr>\n",
       "    <tr>\n",
       "      <th>1</th>\n",
       "      <td>1</td>\n",
       "      <td>2021-11-02</td>\n",
       "      <td>83.870003</td>\n",
       "      <td>84.410004</td>\n",
       "      <td>82.919998</td>\n",
       "      <td>83.910004</td>\n",
       "      <td>83.910004</td>\n",
       "      <td>429608</td>\n",
       "    </tr>\n",
       "    <tr>\n",
       "      <th>2</th>\n",
       "      <td>2</td>\n",
       "      <td>2021-11-03</td>\n",
       "      <td>83.070000</td>\n",
       "      <td>83.080002</td>\n",
       "      <td>79.690002</td>\n",
       "      <td>80.860001</td>\n",
       "      <td>80.860001</td>\n",
       "      <td>546577</td>\n",
       "    </tr>\n",
       "    <tr>\n",
       "      <th>3</th>\n",
       "      <td>3</td>\n",
       "      <td>2021-11-04</td>\n",
       "      <td>80.180000</td>\n",
       "      <td>83.419998</td>\n",
       "      <td>78.250000</td>\n",
       "      <td>78.809998</td>\n",
       "      <td>78.809998</td>\n",
       "      <td>701119</td>\n",
       "    </tr>\n",
       "    <tr>\n",
       "      <th>4</th>\n",
       "      <td>4</td>\n",
       "      <td>2021-11-05</td>\n",
       "      <td>79.370003</td>\n",
       "      <td>81.800003</td>\n",
       "      <td>78.959999</td>\n",
       "      <td>81.269997</td>\n",
       "      <td>81.269997</td>\n",
       "      <td>531054</td>\n",
       "    </tr>\n",
       "  </tbody>\n",
       "</table>\n",
       "</div>"
      ],
      "text/plain": [
       "   Unnamed: 0        Date       Open       High        Low      Close  \\\n",
       "0           0  2021-11-01  83.360001  84.879997  82.739998  84.050003   \n",
       "1           1  2021-11-02  83.870003  84.410004  82.919998  83.910004   \n",
       "2           2  2021-11-03  83.070000  83.080002  79.690002  80.860001   \n",
       "3           3  2021-11-04  80.180000  83.419998  78.250000  78.809998   \n",
       "4           4  2021-11-05  79.370003  81.800003  78.959999  81.269997   \n",
       "\n",
       "   Adj Close  Volume  \n",
       "0  84.050003  412309  \n",
       "1  83.910004  429608  \n",
       "2  80.860001  546577  \n",
       "3  78.809998  701119  \n",
       "4  81.269997  531054  "
      ]
     },
     "execution_count": 6,
     "metadata": {},
     "output_type": "execute_result"
    }
   ],
   "source": [
    "# Read raw data\n",
    "oil_data = pd.read_csv('Crude Oil Data/Full_crude_oil_data.csv')\n",
    "oil_data.head()"
   ]
  },
  {
   "cell_type": "code",
   "execution_count": null,
   "id": "894be5ad-4e01-43e2-b697-6ebb886988ff",
   "metadata": {},
   "outputs": [],
   "source": []
  }
 ],
 "metadata": {
  "kernelspec": {
   "display_name": "Python 3 (ipykernel)",
   "language": "python",
   "name": "python3"
  },
  "language_info": {
   "codemirror_mode": {
    "name": "ipython",
    "version": 3
   },
   "file_extension": ".py",
   "mimetype": "text/x-python",
   "name": "python",
   "nbconvert_exporter": "python",
   "pygments_lexer": "ipython3",
   "version": "3.8.13"
  }
 },
 "nbformat": 4,
 "nbformat_minor": 5
}
