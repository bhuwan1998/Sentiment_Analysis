{
 "cells": [
  {
   "cell_type": "markdown",
   "id": "75cecc83-620c-4241-8454-0f6375b50dbd",
   "metadata": {},
   "source": [
    "# Sentiment Analysis using Tweets (Ukraine and Russia conflict) on Oil Price"
   ]
  },
  {
   "cell_type": "markdown",
   "id": "45c5f0f5-092b-4c32-a912-8039b1f1b87e",
   "metadata": {},
   "source": [
    "#### Twitter API Setup\n",
    "[Setting up of Code and Cleaning up tweets](https://medium.com/swlh/using-twitter-api-for-tweets-sentiment-analysis-590c97ce52d8)"
   ]
  },
  {
   "cell_type": "code",
   "execution_count": 1,
   "id": "dc55b699-21cd-45be-b54f-bc3dcf22bdfd",
   "metadata": {},
   "outputs": [],
   "source": [
    "import matplotlib.pyplot as plt \n",
    "%matplotlib inline \n",
    "import re \n",
    "import pandas as pd \n",
    "import tweepy \n",
    "from tweepy import OAuthHandler \n",
    "from textblob import TextBlob \n",
    "import csv \n",
    "import string \n",
    "import nltk \n",
    "from nltk.corpus import stopwords \n",
    "from nltk.tokenize import word_tokenize\n",
    "from nltk.stem import WordNetLemmatizer \n",
    "from wordcloud import WordCloud,STOPWORDS \n",
    "from nltk.stem.porter import PorterStemmer\n",
    "import requests \n",
    "import json "
   ]
  },
  {
   "cell_type": "markdown",
   "id": "eb2601f8-a1dd-41d8-b1e3-985ea5c42d66",
   "metadata": {},
   "source": [
    "#### Establish Connection with the Project Dashboard (Twitter Developer API)"
   ]
  },
  {
   "cell_type": "code",
   "execution_count": 2,
   "id": "d030530e-a9f0-4676-8481-a084246cc2a9",
   "metadata": {},
   "outputs": [
    {
     "name": "stderr",
     "output_type": "stream",
     "text": [
      "[nltk_data] Downloading package stopwords to\n",
      "[nltk_data]     /Users/seylynkim/nltk_data...\n",
      "[nltk_data]   Unzipping corpora/stopwords.zip.\n"
     ]
    }
   ],
   "source": [
    "nltk.download('stopwords')\n",
    "n_words = set(stopwords.words('english')) # stop words list \n",
    "porter = PorterStemmer()"
   ]
  },
  {
   "cell_type": "markdown",
   "id": "ecfb3999-cd4a-4ec0-bf66-42ad805ec00d",
   "metadata": {
    "tags": []
   },
   "source": [
    "## References \n",
    "\n",
    "[Twitter Client Documentation V2 Endpoints (Tweepy Library)](https://docs.tweepy.org/en/stable/client.html)"
   ]
  },
  {
   "cell_type": "code",
   "execution_count": 14,
   "id": "3783c3c6-2cc0-4352-8255-c8c972968549",
   "metadata": {},
   "outputs": [
    {
     "name": "stderr",
     "output_type": "stream",
     "text": [
      "[nltk_data] Downloading package stopwords to\n",
      "[nltk_data]     C:\\Users\\bhuwa\\AppData\\Roaming\\nltk_data...\n",
      "[nltk_data]   Package stopwords is already up-to-date!\n"
     ]
    }
   ],
   "source": [
    "#https://thecleverprogrammer.com/2022/03/15/ukraine-russia-war-twitter-sentiment-analysis-using-python/\n",
    "df_tweet = pd.read_csv(\"tweet_data.csv\") \n",
    "\n",
    "nltk.download('stopwords')\n",
    "stemmer = nltk.SnowballStemmer(\"english\")\n",
    "stopword=set(stopwords.words('english'))\n",
    "\n",
    "def clean(text):\n",
    "    text = str(text).lower()\n",
    "    text = re.sub('\\[.*?\\]', '', text)\n",
    "    text = re.sub('https?://\\S+|www\\.\\S+', '', text)\n",
    "    text = re.sub('<.*?>+', '', text)\n",
    "    text = re.sub('[%s]' % re.escape(string.punctuation), '', text)\n",
    "    text = re.sub('\\n', '', text)\n",
    "    text = re.sub('\\w*\\d\\w*', '', text)\n",
    "    text = [word for word in text.split(' ') if word not in stopword]\n",
    "    text=\" \".join(text)\n",
    "    text = [stemmer.stem(word) for word in text.split(' ')]\n",
    "    text=\" \".join(text)\n",
    "    return text\n",
    "\n",
    "df_tweet = df_tweet['tweet'].apply(lambda x : clean(x))"
   ]
  },
  {
   "cell_type": "markdown",
   "id": "03a551d9-501c-409e-a290-fa6788c46898",
   "metadata": {},
   "source": [
    "#### Preprocessing of Text"
   ]
  },
  {
   "cell_type": "markdown",
   "id": "0d526b76-b594-48d3-83ed-4dd8bc23f098",
   "metadata": {},
   "source": [
    "#### Analysing Sentiment "
   ]
  },
  {
   "cell_type": "markdown",
   "id": "b8aa2ad7-1aa4-4d5a-aa68-89eb960cbd9d",
   "metadata": {},
   "source": [
    "analysis = TextBlob(tweet) \n",
    "senti = analysis.sentiment.polarity\n",
    "\n",
    "if senti < 0: \n",
    "    emotion = \"NEG\"\n",
    "elif senti > 0: \n",
    "    emotion = \"POS\" \n",
    "else: \n",
    "    emotion = \"NEU\""
   ]
  },
  {
   "cell_type": "code",
   "execution_count": 119,
   "id": "d9407dcd-cd5f-4951-939f-2effd2faef66",
   "metadata": {},
   "outputs": [],
   "source": [
    "def get_tweets(tweets_df): \n",
    "    tweets = [] \n",
    "    try: \n",
    "        for tweet in tweets_df.iteritems():\n",
    "            analysis = TextBlob(str(tweet))\n",
    "            senti= analysis.sentiment.polarity\n",
    "            # labeling the sentiment\n",
    "            if senti < 0 :\n",
    "                emotion = \"NEG\"\n",
    "            elif senti > 0 :\n",
    "                emotion= \"POS\"\n",
    "            else:\n",
    "                emotion= \"NEU\"\n",
    "            # appending all data\n",
    "            tweets.append((tweet, senti, emotion))\n",
    "        return tweets\n",
    "    except tweepy.TweepyException as e: \n",
    "        print(\"Error : \" + str(e))"
   ]
  },
  {
   "cell_type": "code",
   "execution_count": 121,
   "id": "f32afd7c-5c01-49c3-a497-361d9a68ba7b",
   "metadata": {},
   "outputs": [],
   "source": [
    "# Get sentiment \n",
    "sentiment_table = get_tweets(tweets_df)"
   ]
  },
  {
   "cell_type": "code",
   "execution_count": 124,
   "id": "84ad7b4d-52be-4d56-836e-45a6151bab73",
   "metadata": {},
   "outputs": [],
   "source": [
    "sentiment_df = pd.DataFrame(sentiment_table, columns=['tweet', 'senti', 'emotion'])"
   ]
  },
  {
   "cell_type": "code",
   "execution_count": 161,
   "id": "ee633e9b-dda3-4335-9325-be593aaf6052",
   "metadata": {},
   "outputs": [
    {
     "data": {
      "text/plain": [
       "<BarContainer object of 3 artists>"
      ]
     },
     "execution_count": 161,
     "metadata": {},
     "output_type": "execute_result"
    },
    {
     "data": {
      "image/png": "[encoded data removed]",
      "text/plain": [
       "<Figure size 648x648 with 1 Axes>"
      ]
     },
     "metadata": {
      "needs_background": "light"
     },
     "output_type": "display_data"
    }
   ],
   "source": [
    "emotion_dict = {'Neutral': 75, 'Positive': 17, 'Negative': 8}\n",
    "\n",
    "fig, axs = plt.subplots(figsize=(9,9), sharey=True)\n",
    "\n",
    "names = list(emotion_dict.keys())\n",
    "values = list(emotion_dict.values())\n",
    "\n",
    "plt.bar(names, values)"
   ]
  },
  {
   "cell_type": "code",
   "execution_count": 159,
   "id": "dd3566b9-de2d-4178-8ab6-95ef67629d7f",
   "metadata": {},
   "outputs": [
    {
     "data": {
      "text/plain": [
       "<BarContainer object of 3 artists>"
      ]
     },
     "execution_count": 159,
     "metadata": {},
     "output_type": "execute_result"
    },
    {
     "data": {
      "image/png": "[encoded data removed]",
      "text/plain": [
       "<Figure size 648x648 with 1 Axes>"
      ]
     },
     "metadata": {
      "needs_background": "light"
     },
     "output_type": "display_data"
    }
   ],
   "source": [
    "plot_values = {'Neutral': 81, 'Positive': 13, 'Negative' : 6}\n",
    "values = list(plot_values.values())\n",
    "names = list(plot_values.keys())\n",
    "\n",
    "fig, axs = plt.subplots(figsize=(9, 9), sharey=True)\n",
    "axs.bar(names, values)"
   ]
  },
  {
   "cell_type": "code",
   "execution_count": 52,
   "id": "148c69c9-3726-41b0-b5d8-6cea25df25df",
   "metadata": {},
   "outputs": [],
   "source": [
    "import pandas as pd \n",
    "import yfinance as yf \n",
    "import yahoofinancials as YahooFinancials "
   ]
  },
  {
   "cell_type": "code",
   "execution_count": 60,
   "id": "06918000-64d0-41f9-97ed-3dc7567a5ebb",
   "metadata": {},
   "outputs": [],
   "source": [
    "crude_oil_data = yf.download('CL=F', \n",
    "                      start='2021-10-31', \n",
    "                      end='2022-04-24', \n",
    "                      progress=False,\n",
    "                             interval=\"1h\"\n",
    ")\n"
   ]
  },
  {
   "cell_type": "code",
   "execution_count": 61,
   "id": "a3f630aa-bb0c-4115-8013-2c761dd2c091",
   "metadata": {},
   "outputs": [],
   "source": [
    "date = crude_oil_data.index\n",
    "crude_oil_df = pd.DataFrame(crude_oil_data, index=date)"
   ]
  },
  {
   "cell_type": "code",
   "execution_count": 62,
   "id": "81b39839-0f27-46fa-bf4f-4e1f0b7d1223",
   "metadata": {},
   "outputs": [
    {
     "data": {
      "text/html": [
       "<div>\n",
       "<style scoped>\n",
       "    .dataframe tbody tr th:only-of-type {\n",
       "        vertical-align: middle;\n",
       "    }\n",
       "\n",
       "    .dataframe tbody tr th {\n",
       "        vertical-align: top;\n",
       "    }\n",
       "\n",
       "    .dataframe thead th {\n",
       "        text-align: right;\n",
       "    }\n",
       "</style>\n",
       "<table border=\"1\" class=\"dataframe\">\n",
       "  <thead>\n",
       "    <tr style=\"text-align: right;\">\n",
       "      <th></th>\n",
       "      <th>Open</th>\n",
       "      <th>High</th>\n",
       "      <th>Low</th>\n",
       "      <th>Close</th>\n",
       "      <th>Adj Close</th>\n",
       "      <th>Volume</th>\n",
       "    </tr>\n",
       "  </thead>\n",
       "  <tbody>\n",
       "    <tr>\n",
       "      <th>2021-10-31 18:00:00-04:00</th>\n",
       "      <td>83.360001</td>\n",
       "      <td>83.370003</td>\n",
       "      <td>82.910004</td>\n",
       "      <td>83.010002</td>\n",
       "      <td>83.010002</td>\n",
       "      <td>4749</td>\n",
       "    </tr>\n",
       "    <tr>\n",
       "      <th>2021-10-31 19:00:00-04:00</th>\n",
       "      <td>82.989998</td>\n",
       "      <td>83.029999</td>\n",
       "      <td>82.739998</td>\n",
       "      <td>82.980003</td>\n",
       "      <td>82.980003</td>\n",
       "      <td>3671</td>\n",
       "    </tr>\n",
       "    <tr>\n",
       "      <th>2021-10-31 20:00:00-04:00</th>\n",
       "      <td>82.989998</td>\n",
       "      <td>83.239998</td>\n",
       "      <td>82.959999</td>\n",
       "      <td>83.080002</td>\n",
       "      <td>83.080002</td>\n",
       "      <td>3487</td>\n",
       "    </tr>\n",
       "    <tr>\n",
       "      <th>2021-10-31 21:00:00-04:00</th>\n",
       "      <td>83.070000</td>\n",
       "      <td>83.449997</td>\n",
       "      <td>82.870003</td>\n",
       "      <td>83.360001</td>\n",
       "      <td>83.360001</td>\n",
       "      <td>9454</td>\n",
       "    </tr>\n",
       "    <tr>\n",
       "      <th>2021-10-31 22:00:00-04:00</th>\n",
       "      <td>83.370003</td>\n",
       "      <td>83.419998</td>\n",
       "      <td>83.080002</td>\n",
       "      <td>83.120003</td>\n",
       "      <td>83.120003</td>\n",
       "      <td>4315</td>\n",
       "    </tr>\n",
       "    <tr>\n",
       "      <th>...</th>\n",
       "      <td>...</td>\n",
       "      <td>...</td>\n",
       "      <td>...</td>\n",
       "      <td>...</td>\n",
       "      <td>...</td>\n",
       "      <td>...</td>\n",
       "    </tr>\n",
       "    <tr>\n",
       "      <th>2022-04-22 13:00:00-04:00</th>\n",
       "      <td>102.250000</td>\n",
       "      <td>102.370003</td>\n",
       "      <td>101.720001</td>\n",
       "      <td>102.190002</td>\n",
       "      <td>102.190002</td>\n",
       "      <td>14272</td>\n",
       "    </tr>\n",
       "    <tr>\n",
       "      <th>2022-04-22 14:00:00-04:00</th>\n",
       "      <td>102.190002</td>\n",
       "      <td>102.250000</td>\n",
       "      <td>101.559998</td>\n",
       "      <td>101.750000</td>\n",
       "      <td>101.750000</td>\n",
       "      <td>23854</td>\n",
       "    </tr>\n",
       "    <tr>\n",
       "      <th>2022-04-22 15:00:00-04:00</th>\n",
       "      <td>101.739998</td>\n",
       "      <td>101.930000</td>\n",
       "      <td>101.589996</td>\n",
       "      <td>101.629997</td>\n",
       "      <td>101.629997</td>\n",
       "      <td>7799</td>\n",
       "    </tr>\n",
       "    <tr>\n",
       "      <th>2022-04-22 16:00:00-04:00</th>\n",
       "      <td>101.629997</td>\n",
       "      <td>101.790001</td>\n",
       "      <td>101.059998</td>\n",
       "      <td>101.750000</td>\n",
       "      <td>101.750000</td>\n",
       "      <td>4364</td>\n",
       "    </tr>\n",
       "    <tr>\n",
       "      <th>2022-04-28 23:59:00-04:00</th>\n",
       "      <td>104.110001</td>\n",
       "      <td>104.110001</td>\n",
       "      <td>104.110001</td>\n",
       "      <td>104.110001</td>\n",
       "      <td>104.110001</td>\n",
       "      <td>0</td>\n",
       "    </tr>\n",
       "  </tbody>\n",
       "</table>\n",
       "<p>2709 rows × 6 columns</p>\n",
       "</div>"
      ],
      "text/plain": [
       "                                 Open        High         Low       Close  \\\n",
       "2021-10-31 18:00:00-04:00   83.360001   83.370003   82.910004   83.010002   \n",
       "2021-10-31 19:00:00-04:00   82.989998   83.029999   82.739998   82.980003   \n",
       "2021-10-31 20:00:00-04:00   82.989998   83.239998   82.959999   83.080002   \n",
       "2021-10-31 21:00:00-04:00   83.070000   83.449997   82.870003   83.360001   \n",
       "2021-10-31 22:00:00-04:00   83.370003   83.419998   83.080002   83.120003   \n",
       "...                               ...         ...         ...         ...   \n",
       "2022-04-22 13:00:00-04:00  102.250000  102.370003  101.720001  102.190002   \n",
       "2022-04-22 14:00:00-04:00  102.190002  102.250000  101.559998  101.750000   \n",
       "2022-04-22 15:00:00-04:00  101.739998  101.930000  101.589996  101.629997   \n",
       "2022-04-22 16:00:00-04:00  101.629997  101.790001  101.059998  101.750000   \n",
       "2022-04-28 23:59:00-04:00  104.110001  104.110001  104.110001  104.110001   \n",
       "\n",
       "                            Adj Close  Volume  \n",
       "2021-10-31 18:00:00-04:00   83.010002    4749  \n",
       "2021-10-31 19:00:00-04:00   82.980003    3671  \n",
       "2021-10-31 20:00:00-04:00   83.080002    3487  \n",
       "2021-10-31 21:00:00-04:00   83.360001    9454  \n",
       "2021-10-31 22:00:00-04:00   83.120003    4315  \n",
       "...                               ...     ...  \n",
       "2022-04-22 13:00:00-04:00  102.190002   14272  \n",
       "2022-04-22 14:00:00-04:00  101.750000   23854  \n",
       "2022-04-22 15:00:00-04:00  101.629997    7799  \n",
       "2022-04-22 16:00:00-04:00  101.750000    4364  \n",
       "2022-04-28 23:59:00-04:00  104.110001       0  \n",
       "\n",
       "[2709 rows x 6 columns]"
      ]
     },
     "execution_count": 62,
     "metadata": {},
     "output_type": "execute_result"
    }
   ],
   "source": [
    "crude_oil_data"
   ]
  },
  {
   "cell_type": "code",
   "execution_count": 55,
   "id": "7543ebbe-5ea3-4a2c-9c13-328531b43302",
   "metadata": {},
   "outputs": [],
   "source": [
    "crude_oil_df_final = crude_oil_df.reset_index()"
   ]
  },
  {
   "cell_type": "code",
   "execution_count": 56,
   "id": "8422275b-53ee-4fe0-96a7-8644ca4e7518",
   "metadata": {},
   "outputs": [],
   "source": [
    "crude_oil_df_final.to_csv('Full_crude_oil_data.csv')"
   ]
  },
  {
   "cell_type": "code",
   "execution_count": null,
   "id": "4abb9592-6e8c-43c0-8ee4-383d9c4d32c9",
   "metadata": {},
   "outputs": [],
   "source": []
  },
  {
   "cell_type": "code",
   "execution_count": null,
   "id": "8be96657-0a4b-4a4e-873e-1c5d1ab7e561",
   "metadata": {},
   "outputs": [],
   "source": []
  }
 ],
 "metadata": {
  "kernelspec": {
   "display_name": "Python 3 (ipykernel)",
   "language": "python",
   "name": "python3"
  },
  "language_info": {
   "codemirror_mode": {
    "name": "ipython",
    "version": 3
   },
   "file_extension": ".py",
   "mimetype": "text/x-python",
   "name": "python",
   "nbconvert_exporter": "python",
   "pygments_lexer": "ipython3",
   "version": "3.8.12"
  }
 },
 "nbformat": 4,
 "nbformat_minor": 5
}
