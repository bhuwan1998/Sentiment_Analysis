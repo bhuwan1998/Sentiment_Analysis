{
 "cells": [
  {
   "cell_type": "code",
   "execution_count": 111,
   "id": "c392a233-dc32-4a2f-b7d5-14e6f1737ee3",
   "metadata": {},
   "outputs": [],
   "source": [
    "!pip install -q snscrape "
   ]
  },
  {
   "cell_type": "code",
   "execution_count": 3,
   "id": "e2eac5f9-bdf9-4d36-8d72-cb34cf8f8a6c",
   "metadata": {},
   "outputs": [],
   "source": [
    "import os \n",
    "import pandas as pd \n",
    "from os import listdir\n",
    "from datetime import date, datetime, timedelta\n",
    "import seaborn as sns\n",
    "import matplotlib.pyplot as plt\n",
    "from sklearn.feature_extraction.text import CountVectorizer\n",
    "import nltk \n",
    "import string\n",
    "import re\n",
    "%matplotlib inline\n",
    "from textblob import TextBlob \n",
    "pd.set_option('display.max_colwidth', 100)"
   ]
  },
  {
   "cell_type": "code",
   "execution_count": 4,
   "id": "b39a0f11-e4c5-4ed9-921b-abe952abf5b6",
   "metadata": {},
   "outputs": [],
   "source": [
    "def date_range(start, end):\n",
    "    delta = end - start  # as timedelta\n",
    "    days = [start + timedelta(days=i) for i in range(delta.days + 1)]\n",
    "    return_days = [day.date() for day in days]\n",
    "    return return_days\n",
    "\n",
    "start_date = datetime(2022, 3, 12)\n",
    "end_date = datetime(2022, 4, 24)\n",
    "    \n",
    "date_range_for_data = date_range(start_date, end_date)\n",
    "\n",
    "\n",
    "def create_tuples(date_range_list): \n",
    "    return_list = []\n",
    "    \n",
    "    # example [(2021-10-31, 2021-11-1), (2021-11-1, 2021-11-2)]\n",
    "    for i in range(len(date_range_list)): \n",
    "        if not(date_range_list[i] == date_range_list[len(date_range_list)-1]):\n",
    "            return_list.append((date_range_list[i], date_range_list[i+1]))\n",
    "\n",
    "    return return_list\n",
    "\n",
    "date_range_tuple = create_tuples(date_range_for_data)"
   ]
  },
  {
   "cell_type": "code",
   "execution_count": 5,
   "id": "37ca24eb-40e4-4d0c-9300-33cf2dc8da6f",
   "metadata": {},
   "outputs": [],
   "source": [
    "# Get tweets function with \n",
    "# inputs (max_results, search_term, from_date, end_date)\n",
    "# For us the from and end date will be the same \n",
    "# it will output a csv in the current directory with date as the start of the file\n",
    "# and the search term (query at the start as well) \n",
    "def get_tweets(tweet_count, text_query, since_date, until_date):\n",
    "    # Using OS library to call CLI commands in Python\n",
    "    os.system('snscrape --jsonl --max-results {} --since {} twitter-search \"{} until:{}\"> text-query-tweets.json'.format( tweet_count, since_date, text_query, until_date))\n",
    "\n",
    "    # Reads the json generated from the CLI command above and creates a pandas dataframe\n",
    "    tweets_df = pd.read_json('text-query-tweets.json', lines=True)\n",
    "    tweets_df.to_csv(f'{since_date}_{text_query}_tweets.csv', sep=',', index=False)"
   ]
  },
  {
   "cell_type": "markdown",
   "id": "0ad52865-6dd6-4f5f-9b7b-00a8083fce42",
   "metadata": {},
   "source": [
    "# Do not run this anymore"
   ]
  },
  {
   "cell_type": "code",
   "execution_count": null,
   "id": "c8392469-cbef-45d2-b566-35ba902f64e4",
   "metadata": {},
   "outputs": [],
   "source": [
    "tweet_count = 1000\n",
    "text_query = \"russia ukraine oil\"\n",
    "\n",
    "for date in date_range_tuple:\n",
    "    get_tweets(tweet_count, text_query, date[0], date[1])"
   ]
  },
  {
   "cell_type": "markdown",
   "id": "4788b5f3-7471-44e8-9816-978d7e5c2bb6",
   "metadata": {},
   "source": [
    "# Data Preprocessing \n",
    "\n",
    "#### Run this before you proceed with cleaning up and filtering the data \n",
    "\n",
    "#### final_dict - Is this dictionary that contains all the data according to dates as the key "
   ]
  },
  {
   "cell_type": "code",
   "execution_count": 6,
   "id": "7cabc872-c311-49b8-9a45-cf56c5ef571b",
   "metadata": {},
   "outputs": [],
   "source": [
    "current_path = os.getcwd()\n",
    "\n",
    "path_tweets = f'{current_path}/russia_ukraine_tweet/'\n",
    "\n",
    "files = listdir(path_tweets)\n",
    "\n",
    "#read files which end with csv \n",
    "# put them in a list \n",
    "#Input: all files in the directory list of files \n",
    "#Output: filter only the files \n",
    "def filter_csv(files):\n",
    "    \n",
    "    return_list = []\n",
    "    \n",
    "    for f in files: \n",
    "        if f.endswith('csv'):\n",
    "            return_list.append(f)\n",
    "    \n",
    "    return return_list \n",
    "\n",
    "# Tested - Works well\n",
    "files_list = filter_csv(files)\n",
    "            \n",
    "    \n",
    "# write another function which makes a dictionary from a list of csv files \n",
    "# Prerequisite for the dictionary - filenames need to begin with dates \n",
    "# Key: Date Value: CSV \n",
    "# Input list of csv files\n",
    "# Output : Dictionary - date and its constituent df \n",
    "def create_data_dictionary(files_list): \n",
    "    return_dict = {}\n",
    "    files_with_no_data = [] \n",
    "    current_path = os.getcwd()\n",
    "    data_path = f'{current_path}/russia_ukraine_tweet'\n",
    "    for f in files_list:\n",
    "        try:\n",
    "            value = pd.read_csv(f'{data_path}/{f}')\n",
    "            key = f[0:10]\n",
    "            return_dict[key] = value\n",
    "        except:\n",
    "            files_with_no_data.append(f)\n",
    "            continue \n",
    "            \n",
    "    # to check if there are any files which are empty \n",
    "    # there is another way to filter and add it in this function itself but I have broken down \n",
    "    # for easier understanding. \n",
    "    return ((return_dict, files_with_no_data))"
   ]
  },
  {
   "cell_type": "code",
   "execution_count": 7,
   "id": "80cd9a02-337c-458e-a452-9fbd317bb193",
   "metadata": {},
   "outputs": [],
   "source": [
    "final_dict, files_with_no_data = create_data_dictionary(files_list)\n",
    "\n",
    "# without days with no data \n",
    "final_days_of_data = len(final_dict.keys())\n",
    "\n",
    "# input : dictionary , list of files \n",
    "# out : dictionary updated with file names but value is a string - 'no data'\n",
    "def insert_null_val(dict_, files): \n",
    "    for i in files: \n",
    "        dict_[i[0:10]] = 'no value'\n",
    "    \n",
    "    return dict_\n",
    "\n",
    "#with days with no data \n",
    "final_dict = insert_null_val(final_dict, files_with_no_data)"
   ]
  },
  {
   "cell_type": "markdown",
   "id": "c404c066-facc-49e7-99d1-0c5f9ac75efa",
   "metadata": {},
   "source": [
    "## Cleaning up each dataframe individually  - Name of Dictionary final_dict"
   ]
  },
  {
   "cell_type": "code",
   "execution_count": 9,
   "id": "1d6ec1c2-983e-46dd-b7da-8eb7cd795a51",
   "metadata": {},
   "outputs": [],
   "source": [
    "# TODO: \n",
    "# Take a sample \n",
    "# Filter the data \n",
    "# Create functions and test on sample df shown below\n",
    "# source = [twitter for android, twitter for ios, twitter web app, news sources] \n",
    "# language = en (english tweets only)\n",
    "# clean up tweets \n",
    "\n",
    "# Sample data\n",
    "# sample_df = final_dict['2022-03-14']\n",
    "\n",
    "# filter dataframe using 'language' column\n",
    "def filter_lang(dataframe):\n",
    "    dataframe = dataframe.loc[dataframe['lang'] == 'en']\n",
    "    return dataframe\n",
    "\n",
    "# filter dataframe using 'sourceLabel' column\n",
    "def filter_source(dataframe):\n",
    "    dataframe.loc[dataframe['sourceLabel'].str.contains('iPad|iPhone|Mac'), 'sourceLabel'] = 'twitter for ios'\n",
    "    dataframe.loc[dataframe['sourceLabel'].str.contains('Android'), 'sourceLabel'] = 'twitter for android'\n",
    "    dataframe.loc[dataframe['sourceLabel'].str.contains('News'), 'sourceLabel'] = 'news sources'\n",
    "    return dataframe\n",
    "\n",
    "# apply both filter_lang and filter_source functions to a dataframe\n",
    "def filtered_data(dataframe):\n",
    "    dataframe = filter_lang(dataframe)\n",
    "    dataframe = filter_source(dataframe)\n",
    "    return dataframe\n",
    "\n",
    "# sample_df = filtered_data(sample_df)"
   ]
  },
  {
   "cell_type": "code",
   "execution_count": 10,
   "id": "d2d7486e-bf0d-4647-b4b3-87a07434ddc7",
   "metadata": {},
   "outputs": [],
   "source": [
    "# check whether a string is English\n",
    "# True - String is English, False - String contains non-english characters (excluding emojis and special characters)\n",
    "def isEnglish(value):\n",
    "    return value.isascii()\n",
    "\n",
    "# Extract rows with English content from a dataframe\n",
    "# may use this function instead of filter_lang()\n",
    "def filter_english(dataframe):\n",
    "    for i, r in dataframe.iterrows():\n",
    "        dataframe.loc[i, ['isEnglish']] = isEnglish(r['content'])\n",
    "    \n",
    "    dataframe = dataframe.loc[dataframe['isEnglish'] == True]\n",
    "    return dataframe"
   ]
  },
  {
   "cell_type": "markdown",
   "id": "be492955-ec6c-493c-ac11-0f0196937c3c",
   "metadata": {},
   "source": [
    "### Removing Stop Words and Punctuation  "
   ]
  },
  {
   "cell_type": "code",
   "execution_count": 11,
   "id": "f6ec9a94-c6aa-4c8b-a8ff-d3b48a4ded80",
   "metadata": {},
   "outputs": [
    {
     "name": "stderr",
     "output_type": "stream",
     "text": [
      "[nltk_data] Downloading package names to /Users/bhuwan/nltk_data...\n",
      "[nltk_data]   Package names is already up-to-date!\n",
      "[nltk_data] Downloading package stopwords to\n",
      "[nltk_data]     /Users/bhuwan/nltk_data...\n",
      "[nltk_data]   Package stopwords is already up-to-date!\n",
      "[nltk_data] Downloading package state_union to\n",
      "[nltk_data]     /Users/bhuwan/nltk_data...\n",
      "[nltk_data]   Package state_union is already up-to-date!\n",
      "[nltk_data] Downloading package twitter_samples to\n",
      "[nltk_data]     /Users/bhuwan/nltk_data...\n",
      "[nltk_data]   Package twitter_samples is already up-to-date!\n",
      "[nltk_data] Downloading package averaged_perceptron_tagger to\n",
      "[nltk_data]     /Users/bhuwan/nltk_data...\n",
      "[nltk_data]   Package averaged_perceptron_tagger is already up-to-\n",
      "[nltk_data]       date!\n",
      "[nltk_data] Downloading package vader_lexicon to\n",
      "[nltk_data]     /Users/bhuwan/nltk_data...\n",
      "[nltk_data]   Package vader_lexicon is already up-to-date!\n",
      "[nltk_data] Downloading package punkt to /Users/bhuwan/nltk_data...\n",
      "[nltk_data]   Package punkt is already up-to-date!\n"
     ]
    }
   ],
   "source": [
    "#https://aronakhmad.medium.com/twitter-data-cleaning-using-python-db1ec2f28f08\n",
    "from nltk.corpus import stopwords \n",
    "from nltk.tokenize import word_tokenize\n",
    "from nltk.stem import WordNetLemmatizer \n",
    "from wordcloud import WordCloud,STOPWORDS \n",
    "from nltk.stem.porter import PorterStemmer\n",
    "nltk.download([\n",
    "     \"names\",\n",
    "     \"stopwords\",\n",
    "     \"state_union\",\n",
    "     \"twitter_samples\",\n",
    "     \"averaged_perceptron_tagger\",\n",
    "     \"vader_lexicon\",\n",
    "     \"punkt\", ])\n",
    "\n",
    "\n",
    "\n",
    "n_words = set(stopwords.words('english')) # stop words list \n",
    "porter = PorterStemmer()\n",
    "\n",
    "\n",
    "stemmer = nltk.SnowballStemmer(\"english\")\n",
    "stopword=set(stopwords.words('english'))\n",
    "\n",
    "def clean(text):\n",
    "    text = str(text).lower()\n",
    "    text = re.sub('\\[.*?\\]', '', text)\n",
    "    text = re.sub('https?://\\S+|www\\.\\S+', '', text)\n",
    "    text = re.sub('<.*?>+', '', text)\n",
    "    text = re.sub('[%s]' % re.escape(string.punctuation), '', text)\n",
    "    text = re.sub('\\n', '', text)\n",
    "    text = re.sub('\\w*\\d\\w*', '', text)\n",
    "    text = [word for word in text.split(' ') if word not in stopword]\n",
    "    text=\" \".join(text)\n",
    "    text = [stemmer.stem(word) for word in text.split(' ')]\n",
    "    text=\" \".join(text)\n",
    "    return text"
   ]
  },
  {
   "cell_type": "code",
   "execution_count": 207,
   "id": "ec2496fc-db6c-4965-b116-ae72e497f990",
   "metadata": {},
   "outputs": [],
   "source": [
    "sample_df['content'] = sample_df['content'].apply(lambda x: clean(x))"
   ]
  },
  {
   "cell_type": "code",
   "execution_count": 94,
   "id": "d3ad53c2-6d38-466e-ba2f-e72c93af58ae",
   "metadata": {},
   "outputs": [],
   "source": [
    "from nltk.sentiment import SentimentIntensityAnalyzer\n",
    "\n",
    "def find_overall(compound_value): \n",
    "    if compound_value > -0.04: \n",
    "        return 'POS'\n",
    "    elif compound_value < -0.17: \n",
    "        return 'NEG'\n",
    "    else: \n",
    "        return 'NEU'\n",
    "\n",
    "def find_sentiment(dataframe):\n",
    "    list_of_polarity= []\n",
    "    sia = SentimentIntensityAnalyzer()\n",
    "    list_rows_skipped = []\n",
    "    counter = 0 \n",
    "    \n",
    "\n",
    "    for i in dataframe['content']:\n",
    "        try:\n",
    "            compound = sia.polarity_scores(i)['compound']\n",
    "            list_of_polarity.append((i, compound))\n",
    "            counter += 1\n",
    "        except:\n",
    "            list_rows_skipped.append(i)\n",
    "            counter += 1\n",
    "    \n",
    "    temp_df = pd.DataFrame(list_of_polarity, columns=['date', 'compound'])\n",
    "\n",
    "    overall_sentiment = temp_df['compound'].mean()\n",
    "    \n",
    "    result = find_overall(overall_sentiment)\n",
    "                                 \n",
    "    return result\n",
    "        \n"
   ]
  },
  {
   "cell_type": "code",
   "execution_count": 42,
   "id": "a65096a2-19a9-43b9-a387-7e88af272095",
   "metadata": {},
   "outputs": [
    {
     "name": "stdout",
     "output_type": "stream",
     "text": [
      "2022-03-05 no value\n",
      "2022-03-31 no value\n",
      "2022-03-04 no value\n",
      "2021-11-01 no value\n",
      "2022-03-08 no value\n",
      "2022-03-07 no value\n",
      "2022-03-10 no value\n",
      "2022-03-06 no value\n",
      "2022-03-09 no value\n"
     ]
    }
   ],
   "source": [
    "list_app = []\n",
    "for i in final_dict.keys(): \n",
    "    if isinstance(final_dict[i],str): \n",
    "        print(i, final_dict[i])\n"
   ]
  },
  {
   "cell_type": "code",
   "execution_count": null,
   "id": "fbe5abba-8d2f-46a0-bbb7-3ccfd57c7772",
   "metadata": {},
   "outputs": [],
   "source": [
    "def final_dataframe(final_dict):\n",
    "    final_dict_list = []\n",
    "    \n",
    "    for i in final_dict.keys():\n",
    "        temp_df = final_dict[i]\n",
    "        if not(isinstance(temp_df, str)) and ('content' in temp_df.columns) : \n",
    "            temp_df['content'] = temp_df['content'].apply(lambda x : clean(x))\n",
    "            final_dict_list.append((i, find_sentiment(temp_df)))\n",
    "        \n",
    "    return_df = pd.DataFrame(final_dict_list, columns = ['Date', 'Sentiment'])\n",
    "    return return_df\n",
    "#     temp_df = final_dict[i]\n",
    "#     temp_df['content'] = temp_df['content'].apply(lambda x : clean(text))\n",
    "\n",
    "final_df = final_dataframe(final_dict)\n",
    "    "
   ]
  },
  {
   "cell_type": "code",
   "execution_count": 93,
   "id": "0942112b-4ba2-43a4-a640-03d340e9c287",
   "metadata": {},
   "outputs": [
    {
     "data": {
      "text/plain": [
       "NEG    93\n",
       "NEU    54\n",
       "POS    19\n",
       "Name: Sentiment, dtype: int64"
      ]
     },
     "execution_count": 93,
     "metadata": {},
     "output_type": "execute_result"
    }
   ],
   "source": [
    "final_df['Sentiment'].value_counts()"
   ]
  },
  {
   "cell_type": "code",
   "execution_count": 59,
   "id": "955462af-65b6-4c81-a6bc-dd89301a761a",
   "metadata": {},
   "outputs": [
    {
     "data": {
      "image/png": "[encoded data removed]",
      "text/plain": [
       "<Figure size 648x432 with 1 Axes>"
      ]
     },
     "metadata": {},
     "output_type": "display_data"
    }
   ],
   "source": [
    "\n",
    "import numpy as np\n",
    "import matplotlib.pyplot as plt\n",
    "from scipy.stats import norm\n",
    "\n",
    "#create range of x-values from -4 to 4 in increments of .001\n",
    "x = np.arange(-4, 4, 0.001)\n",
    "\n",
    "#create range of y-values that correspond to normal pdf with mean=0 and sd=1 \n",
    "y = norm.pdf(x,0,1)\n",
    "\n",
    "#define plot \n",
    "fig, ax = plt.subplots(figsize=(9,6))\n",
    "ax.plot(x,y)\n",
    "\n",
    "#specify the region of the bell curve to fill in \n",
    "x_fill = final_df['Sentiment']\n",
    "y_fill = norm.pdf(x_fill,0,1)\n",
    "ax.fill_between(x_fill,y_fill,0, alpha=0.2, color='blue')\n",
    "#choose plot style and display the bell curve \n",
    "plt.style.use('fivethirtyeight')\n",
    "plt.show()\n",
    "\n",
    "\n",
    "\n"
   ]
  },
  {
   "cell_type": "markdown",
   "id": "03b319e1-bc94-48e9-a7af-5f7c86338744",
   "metadata": {},
   "source": [
    "## Testing \n",
    "\n"
   ]
  },
  {
   "cell_type": "code",
   "execution_count": 191,
   "id": "62422eac-974a-4399-ad1e-a605550ca154",
   "metadata": {},
   "outputs": [],
   "source": [
    "def get_sentiment(tweets_df): \n",
    "    tweets = [] \n",
    "    try: \n",
    "        for tweet in tweets_df.iteritems():\n",
    "            analysis = TextBlob(str(tweet))\n",
    "            senti= analysis.sentiment.polarity\n",
    "            # labeling the sentiment\n",
    "            if senti < 0 :\n",
    "                emotion = \"NEG\"\n",
    "            elif senti > 0 :\n",
    "                emotion= \"POS\"\n",
    "            else:\n",
    "                emotion= \"NEU\"\n",
    "            # appending all data\n",
    "            tweets.append((tweet, senti, emotion))\n",
    "            sentiment_df = pd.DataFrame(tweets, columns=['tweet', 'senti', 'emotion'])\n",
    "        return sentiment_df\n",
    "    except tweepy.TweepyException as e: \n",
    "        print(\"Error : \" + str(e))\n",
    "        \n",
    "\n",
    "# tweets_sentiment = get_sentiment(sample_df['content'])"
   ]
  },
  {
   "cell_type": "code",
   "execution_count": 192,
   "id": "827c1ce4-0d95-43fa-9397-28c96ec50da6",
   "metadata": {},
   "outputs": [],
   "source": [
    "# This function is supposed to help find the overall sentiment per day \n",
    "# Given the data for the day with sentiment \n",
    "# Find the overall sentiment ignoring the neutrality \n",
    "\n",
    "# Break this up into two or three functions \n",
    "def check_pos_neg(day_df_sentiment): \n",
    "    if day_df_sentiment.isin({'emotion': ['POS', 'NEG']}):\n",
    "        return True \n",
    "    else:\n",
    "        return False\n",
    "    \n",
    "def check_neg_neu(day_df_sentiment): \n",
    "    if day_df_sentiment.isn({'emotion': ['NEU', 'NEG']}):\n",
    "        return True\n",
    "    else: \n",
    "        return False\n",
    "\n",
    "# one function to check if the negative or positive values exist in the emotion column\n",
    "def overall_sentiment(day_df_sentiment):\n",
    "    try:\n",
    "        # if day_df_sentiment has 'POS' and 'NEG' as a value in its column of emotion \n",
    "        if check_emotion(day_df_sentiment):\n",
    "            positive = day_df_sentiment['emotion'].value_counts()['POS']\n",
    "            negative = day_df_sentiment['emotion'].value_counts()['NEG']\n",
    "    \n",
    "            overall = positive - negative \n",
    "    \n",
    "            if overall > 0: \n",
    "                return 'POS'\n",
    "            else: \n",
    "                return 'NEG'\n",
    "        # check negative and neutral \n",
    "        elif check_neg_neu(day_df_sentiment):\n",
    "            neutral = day_df_sentiment['emotion'].value_counts()['NEU']\n",
    "            negative = day_df_sentiment['emotion'].value_counts()['NEG']\n",
    "            \n",
    "            overall = neutral - negative\n",
    "            \n",
    "            if overall > 0: \n",
    "                return 'NEU'\n",
    "            else: \n",
    "                return 'NEG'\n",
    "        else: \n",
    "            return 'NEU'\n",
    "    except: \n",
    "        print(\"Error occurred\")\n",
    "            \n",
    "        \n",
    "        "
   ]
  },
  {
   "cell_type": "markdown",
   "id": "b3a51dad-cba7-40fd-b71d-e9e63f56f8cf",
   "metadata": {},
   "source": [
    "### Final Combination of Dfs"
   ]
  },
  {
   "cell_type": "code",
   "execution_count": 195,
   "id": "aa617aea-04fa-4239-91d5-4175f83c1d6d",
   "metadata": {},
   "outputs": [],
   "source": [
    "# Each df from \n",
    "def df_clean_up_and_sentiment_dict(result_data_dict):\n",
    "    #copy the given dict for copy of keys \n",
    "    sentiment_dict = result_data_dict\n",
    "    final_list = []\n",
    "    \n",
    "    for key in result_data_dict.keys():\n",
    "        # get the df from dict\n",
    "        temp_df = result_data_dict[key]\n",
    "        # clean the df and update the df in the dict\n",
    "#         temp_df = filtered_data(temp_df)\n",
    "        temp_df['content'] = temp_df['content'].apply(lambda x : clean(x))\n",
    "        # Once cleaned get the sentiment df \n",
    "        temp_sentiment_df = get_sentiment(temp_df)\n",
    "        # temp_sentiment\n",
    "        final_list.append((sentiment_dict[key], overall_sentiment(temp_sentiment_df)))\n",
    "        \n",
    "    return final_list \n"
   ]
  },
  {
   "cell_type": "code",
   "execution_count": 197,
   "id": "348ee1dc-de6d-46eb-9487-880f2e25a1d6",
   "metadata": {},
   "outputs": [],
   "source": [
    "# list_emotion_per_day = df_clean_up_and_sentiment_dict(final_dict)"
   ]
  },
  {
   "cell_type": "code",
   "execution_count": 201,
   "id": "fab970c3-f971-4dcb-9e7f-1096f8bd378b",
   "metadata": {},
   "outputs": [
    {
     "data": {
      "text/plain": [
       "0      As sanctions over Ukraine war mount, Russia turns to India to buy oil and arms - The Washington ...\n",
       "1      @gr8shotkeith These oil companies are lying. \\n\\nAccording to what I heard they already have 9,0...\n",
       "2      USD/CAD struggles to defend 1.2600 as Ukraine-Russia crisis favors oil buyers By @anilpanchal7 h...\n",
       "3      The invasion of Ukraine has exposed the European vulnerability to the supply of Russian oil and ...\n",
       "4                    @PPouyanne  #mariupol and you are still in Russia ? Shame on you!\\n#Ukraine #Oil #Gas\n",
       "                                                      ...                                                 \n",
       "221    For global food market or hunger, there are few worse countries to be in conflict than Russia an...\n",
       "222    @GOPChairwoman When Russia invaded Ukraine, crude oil was $99 a barrel. Today, it's fallen back ...\n",
       "223    @conspiracyb0t No thanks.  It is an unfortunate set of circumstances in Ukraine.  It is not our ...\n",
       "224                 @IAPonomarenko Ukraine has so much untapped oil &amp; gas. It can compete with Russia.\n",
       "225    @guyverhofstadt The EU organisation. Corrupt (still bankrolling Russia by purchasing oil and gas...\n",
       "Name: content, Length: 226, dtype: object"
      ]
     },
     "execution_count": 201,
     "metadata": {},
     "output_type": "execute_result"
    }
   ],
   "source": [
    "sample_df = final_dict['2022-03-20']\n",
    "\n",
    "sample_df = sample_df['content'].apply(lamda x : clean(x))\n",
    "\n"
   ]
  },
  {
   "cell_type": "code",
   "execution_count": null,
   "id": "50d95287-b8b4-4a20-a89a-0cc53309efb6",
   "metadata": {},
   "outputs": [],
   "source": []
  }
 ],
 "metadata": {
  "kernelspec": {
   "display_name": "Python 3 (ipykernel)",
   "language": "python",
   "name": "python3"
  },
  "language_info": {
   "codemirror_mode": {
    "name": "ipython",
    "version": 3
   },
   "file_extension": ".py",
   "mimetype": "text/x-python",
   "name": "python",
   "nbconvert_exporter": "python",
   "pygments_lexer": "ipython3",
   "version": "3.8.13"
  }
 },
 "nbformat": 4,
 "nbformat_minor": 5
}
